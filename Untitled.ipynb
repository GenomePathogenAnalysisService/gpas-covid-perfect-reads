{
 "cells": [
  {
   "cell_type": "code",
   "execution_count": 1,
   "id": "c7dacb27-a453-4d34-85db-0c3564a820da",
   "metadata": {},
   "outputs": [],
   "source": [
    "import gpas_covid_synthetic_reads as gcsr"
   ]
  },
  {
   "cell_type": "code",
   "execution_count": 2,
   "id": "e046b780-3f17-4c0e-92d5-cdb1ab2b65b1",
   "metadata": {},
   "outputs": [],
   "source": [
    "pango_definitions=gcsr.load_pango_definitions('constellations')\n"
   ]
  },
  {
   "cell_type": "code",
   "execution_count": 5,
   "id": "fa04cffb-ac58-4626-ba49-a0c608edd33a",
   "metadata": {},
   "outputs": [],
   "source": [
    "import gumpy, copy, numpy, pkg_resources"
   ]
  },
  {
   "cell_type": "code",
   "execution_count": 6,
   "id": "ab85de05-046c-414e-b9b5-9bc2e4d0a540",
   "metadata": {},
   "outputs": [],
   "source": [
    "covid_reference=gumpy.Genome(pkg_resources.resource_filename(\"gpas_covid_synthetic_reads\", 'data/MN908947.3.gbk'))"
   ]
  },
  {
   "cell_type": "code",
   "execution_count": 7,
   "id": "a5d72027-257f-4cb6-b35b-2d8b93139b25",
   "metadata": {},
   "outputs": [
    {
     "data": {
      "text/plain": [
       "MN908947\n",
       "MN908947.3\n",
       "Severe acute respiratory syndrome coronavirus 2 isolate Wuhan-Hu-1, complete genome\n",
       "29903 bases\n",
       "attaaa...aaaaaa\n",
       "metadata for all genes/loci have been included"
      ]
     },
     "execution_count": 7,
     "metadata": {},
     "output_type": "execute_result"
    }
   ],
   "source": [
    "covid_reference"
   ]
  },
  {
   "cell_type": "code",
   "execution_count": 8,
   "id": "5b1bdd13-f068-4053-bc8f-9d1d45e8d04c",
   "metadata": {},
   "outputs": [],
   "source": [
    "gamma=gcsr.PangoGenome(covid_reference, pango_definitions, 'cP.1')"
   ]
  },
  {
   "cell_type": "code",
   "execution_count": 10,
   "id": "23896650-4987-4cd4-9359-4f1b9e0c520f",
   "metadata": {},
   "outputs": [
    {
     "data": {
      "text/plain": [
       "{'label': 'Gamma (P.1-like)',\n",
       " 'description': 'Defining constellation for lineage P.1',\n",
       " 'sources': ['https://virological.org/t/586',\n",
       "  'https://cov-lineages.org/global_report_P.1.html'],\n",
       " 'type': 'variant',\n",
       " 'variant': {'Pango_lineages': ['P.1'],\n",
       "  'mrca_lineage': 'P.1',\n",
       "  'PHE_label': 'VOC-21JAN-02',\n",
       "  'WHO_label': 'Gamma',\n",
       "  'representative_genome': ''},\n",
       " 'tags': ['P.1', 'VOC-21JAN-02', 'VOC202101/02'],\n",
       " 'sites': ['nuc:T733C',\n",
       "  'nuc:C2749T',\n",
       "  'ORF1ab:S1188L',\n",
       "  'ORF1ab:K1795Q',\n",
       "  'del:11287:9',\n",
       "  'nuc:C12778T',\n",
       "  'nuc:C13860T',\n",
       "  'S:T20N',\n",
       "  'S:P26S',\n",
       "  'S:K417T',\n",
       "  'S:E484K',\n",
       "  'S:N501Y',\n",
       "  'S:T1027I',\n",
       "  'ORF8:E92K',\n",
       "  'nuc:28262+AACA',\n",
       "  'N:P80R'],\n",
       " 'rules': {'min_alt': 8, 'max_ref': 3}}"
      ]
     },
     "execution_count": 10,
     "metadata": {},
     "output_type": "execute_result"
    }
   ],
   "source": [
    "gamma.definition"
   ]
  },
  {
   "cell_type": "code",
   "execution_count": 18,
   "id": "d47511c3-1006-4c2b-be57-7fe0c26945b3",
   "metadata": {},
   "outputs": [],
   "source": [
    "genome = gamma.expected.build_genome_string(fixed_length=False)"
   ]
  },
  {
   "cell_type": "code",
   "execution_count": 19,
   "id": "46498788-f399-4cb9-807c-8d18efd8f8b4",
   "metadata": {},
   "outputs": [
    {
     "data": {
      "text/plain": [
       "29898"
      ]
     },
     "execution_count": 19,
     "metadata": {},
     "output_type": "execute_result"
    }
   ],
   "source": [
    "len(genome)"
   ]
  },
  {
   "cell_type": "code",
   "execution_count": 21,
   "id": "00fc037b-2945-4ceb-abfb-8400aeda4b9e",
   "metadata": {},
   "outputs": [],
   "source": [
    "mask = (gamma.expected.nucleotide_index>11280) & (gamma.expected.nucleotide_index<11305)"
   ]
  },
  {
   "cell_type": "code",
   "execution_count": 23,
   "id": "e373ac30-ed3e-4268-a3b6-e5a3bdf063b5",
   "metadata": {},
   "outputs": [
    {
     "data": {
      "text/plain": [
       "\u001b[0;31mSignature:\u001b[0m\n",
       "\u001b[0mgamma\u001b[0m\u001b[0;34m.\u001b[0m\u001b[0mexpected\u001b[0m\u001b[0;34m.\u001b[0m\u001b[0mbuild_genome_string\u001b[0m\u001b[0;34m(\u001b[0m\u001b[0;34m\u001b[0m\n",
       "\u001b[0;34m\u001b[0m    \u001b[0mfixed_length\u001b[0m\u001b[0;34m=\u001b[0m\u001b[0;32mFalse\u001b[0m\u001b[0;34m,\u001b[0m\u001b[0;34m\u001b[0m\n",
       "\u001b[0;34m\u001b[0m    \u001b[0mnucleotide_index_range\u001b[0m\u001b[0;34m=\u001b[0m\u001b[0;32mNone\u001b[0m\u001b[0;34m,\u001b[0m\u001b[0;34m\u001b[0m\n",
       "\u001b[0;34m\u001b[0m\u001b[0;34m)\u001b[0m\u001b[0;34m\u001b[0m\u001b[0;34m\u001b[0m\u001b[0m\n",
       "\u001b[0;31mDocstring:\u001b[0m\n",
       "Generate a string of the nucleotides in the genome (positive strand if DNA).\n",
       "\n",
       "Args:\n",
       "    fixed_length (bool): if True, then do not add insertions and deletions. Default False.\n",
       "    nucleotide_index_range (tuple, ints): the 1-based positions of the sequence to return with start<=index<end.\n",
       "\n",
       "Returns:\n",
       "    (str): the genome as a string.\n",
       "\u001b[0;31mFile:\u001b[0m      ~/packages/gumpy/gumpy/genome.py\n",
       "\u001b[0;31mType:\u001b[0m      method\n"
      ]
     },
     "metadata": {},
     "output_type": "display_data"
    }
   ],
   "source": [
    "gamma.expected.build_genome_string?"
   ]
  },
  {
   "cell_type": "code",
   "execution_count": 25,
   "id": "be6c92f4-eb9c-4adc-b071-cbbb9a272324",
   "metadata": {},
   "outputs": [
    {
     "data": {
      "text/plain": [
       "'ctagttttaagctaaa'"
      ]
     },
     "execution_count": 25,
     "metadata": {},
     "output_type": "execute_result"
    }
   ],
   "source": [
    "gamma.expected.build_genome_string(nucleotide_index_range=(2,11305))"
   ]
  },
  {
   "cell_type": "code",
   "execution_count": 26,
   "id": "78da085f-2e0f-4ff2-a207-cf3aecb5bcda",
   "metadata": {},
   "outputs": [
    {
     "data": {
      "text/plain": [
       "'ctagtttgtctggttttaagctaaa'"
      ]
     },
     "execution_count": 26,
     "metadata": {},
     "output_type": "execute_result"
    }
   ],
   "source": [
    "gamma.reference.build_genome_string(nucleotide_index_range=(11280,11305))"
   ]
  },
  {
   "cell_type": "code",
   "execution_count": 28,
   "id": "3c1c5346-73e3-40e7-96c9-30754d015e00",
   "metadata": {},
   "outputs": [
    {
     "data": {
      "text/plain": [
       "array(['g'], dtype='<U1')"
      ]
     },
     "execution_count": 28,
     "metadata": {},
     "output_type": "execute_result"
    }
   ],
   "source": [
    "gamma.reference.nucleotide_sequence[gamma.reference.nucleotide_index==11287]"
   ]
  },
  {
   "cell_type": "code",
   "execution_count": null,
   "id": "388f9e02-43b2-472a-ae70-1857eb504810",
   "metadata": {},
   "outputs": [],
   "source": []
  }
 ],
 "metadata": {
  "kernelspec": {
   "display_name": "Python 3 (ipykernel)",
   "language": "python",
   "name": "python3"
  },
  "language_info": {
   "codemirror_mode": {
    "name": "ipython",
    "version": 3
   },
   "file_extension": ".py",
   "mimetype": "text/x-python",
   "name": "python",
   "nbconvert_exporter": "python",
   "pygments_lexer": "ipython3",
   "version": "3.9.10"
  }
 },
 "nbformat": 4,
 "nbformat_minor": 5
}
