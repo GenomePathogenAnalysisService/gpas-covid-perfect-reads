{
 "cells": [
  {
   "cell_type": "code",
   "execution_count": 22,
   "id": "a5688f4b-6d7e-438d-a7b6-369d9bdabfb0",
   "metadata": {},
   "outputs": [
    {
     "name": "stdout",
     "output_type": "stream",
     "text": [
      "The autoreload extension is already loaded. To reload it, use:\n",
      "  %reload_ext autoreload\n"
     ]
    }
   ],
   "source": [
    "import gpas_covid_synthetic_reads as gcsr\n",
    "import gumpy, pandas, numpy\n",
    "\n",
    "%load_ext autoreload\n",
    "%autoreload 2"
   ]
  },
  {
   "cell_type": "code",
   "execution_count": 2,
   "id": "adff5753-f3f0-4038-8bdd-8fea0de8c866",
   "metadata": {},
   "outputs": [],
   "source": [
    "primer_scheme_file = 'gpas_covid_synthetic_reads/data/midnight-1200.qcovid.tsv'\n",
    "primers=pandas.read_csv(primer_scheme_file,\\\n",
    "                            sep='\\t',\n",
    "                            names=['pool','name','seq','bool1','bool2','start'])\n",
    "def assign_end(row):\n",
    "            return(row['start']+len(row.seq)-1)\n",
    "\n",
    "primers['end']=primers.apply(assign_end,axis=1)\n",
    "\n",
    "def find_handedness(row):\n",
    "    return(row['name'].split('_')[-1])\n",
    "\n",
    "primers['hand']=primers.apply(find_handedness,axis=1)\n",
    "\n",
    "left=primers.loc[primers.hand=='LEFT']\n",
    "right=primers.loc[primers.hand=='RIGHT']\n",
    "\n",
    "amplicons=left.merge(right,left_on='pool',right_on='pool',suffixes=['_left','_right'])\n",
    "amplicons=amplicons[['pool','start_left','end_right']]\n",
    "amplicons.rename(columns={'pool':'name','start_left':'start','end_right':'end'},inplace=True)"
   ]
  },
  {
   "cell_type": "code",
   "execution_count": 3,
   "id": "0f8a7e12-4db7-41a5-8c49-8cf688ba188d",
   "metadata": {},
   "outputs": [
    {
     "data": {
      "text/html": [
       "<div>\n",
       "<style scoped>\n",
       "    .dataframe tbody tr th:only-of-type {\n",
       "        vertical-align: middle;\n",
       "    }\n",
       "\n",
       "    .dataframe tbody tr th {\n",
       "        vertical-align: top;\n",
       "    }\n",
       "\n",
       "    .dataframe thead th {\n",
       "        text-align: right;\n",
       "    }\n",
       "</style>\n",
       "<table border=\"1\" class=\"dataframe\">\n",
       "  <thead>\n",
       "    <tr style=\"text-align: right;\">\n",
       "      <th></th>\n",
       "      <th>pool</th>\n",
       "      <th>name</th>\n",
       "      <th>seq</th>\n",
       "      <th>bool1</th>\n",
       "      <th>bool2</th>\n",
       "      <th>start</th>\n",
       "      <th>end</th>\n",
       "      <th>hand</th>\n",
       "    </tr>\n",
       "  </thead>\n",
       "  <tbody>\n",
       "    <tr>\n",
       "      <th>0</th>\n",
       "      <td>SARSCoV_1200_1</td>\n",
       "      <td>SARSCoV_1200_1_LEFT</td>\n",
       "      <td>ACCAACCAACTTTCGATCTCTTGT</td>\n",
       "      <td>True</td>\n",
       "      <td>True</td>\n",
       "      <td>30</td>\n",
       "      <td>53</td>\n",
       "      <td>LEFT</td>\n",
       "    </tr>\n",
       "    <tr>\n",
       "      <th>1</th>\n",
       "      <td>SARSCoV_1200_1</td>\n",
       "      <td>SARSCoV_1200_1_RIGHT</td>\n",
       "      <td>GGTTGCATTCATTTGGTGACGC</td>\n",
       "      <td>False</td>\n",
       "      <td>False</td>\n",
       "      <td>1205</td>\n",
       "      <td>1226</td>\n",
       "      <td>RIGHT</td>\n",
       "    </tr>\n",
       "    <tr>\n",
       "      <th>2</th>\n",
       "      <td>SARSCoV_1200_3</td>\n",
       "      <td>SARSCoV_1200_3_LEFT</td>\n",
       "      <td>GGCTTGAAGAGAAGTTTAAGGAAGGT</td>\n",
       "      <td>True</td>\n",
       "      <td>True</td>\n",
       "      <td>2153</td>\n",
       "      <td>2178</td>\n",
       "      <td>LEFT</td>\n",
       "    </tr>\n",
       "  </tbody>\n",
       "</table>\n",
       "</div>"
      ],
      "text/plain": [
       "             pool                  name                         seq  bool1  \\\n",
       "0  SARSCoV_1200_1   SARSCoV_1200_1_LEFT    ACCAACCAACTTTCGATCTCTTGT   True   \n",
       "1  SARSCoV_1200_1  SARSCoV_1200_1_RIGHT      GGTTGCATTCATTTGGTGACGC  False   \n",
       "2  SARSCoV_1200_3   SARSCoV_1200_3_LEFT  GGCTTGAAGAGAAGTTTAAGGAAGGT   True   \n",
       "\n",
       "   bool2  start   end   hand  \n",
       "0   True     30    53   LEFT  \n",
       "1  False   1205  1226  RIGHT  \n",
       "2   True   2153  2178   LEFT  "
      ]
     },
     "execution_count": 3,
     "metadata": {},
     "output_type": "execute_result"
    }
   ],
   "source": [
    "primers[:3]"
   ]
  },
  {
   "cell_type": "code",
   "execution_count": 10,
   "id": "a6ac6af4-aed6-44da-8cf9-3c6eaa7d7b2d",
   "metadata": {},
   "outputs": [
    {
     "data": {
      "text/plain": [
       "array([    1,     2,     3, ..., 29901, 29902, 29903])"
      ]
     },
     "execution_count": 10,
     "metadata": {},
     "output_type": "execute_result"
    }
   ],
   "source": [
    "covid_reference=gumpy.Genome('gpas_covid_synthetic_reads/data/MN908947.3.gbk')\n",
    "covid_reference.nucleotide_index"
   ]
  },
  {
   "cell_type": "code",
   "execution_count": 41,
   "id": "96e82c9e-b66f-47ab-8590-59465c0c501f",
   "metadata": {},
   "outputs": [],
   "source": []
  },
  {
   "cell_type": "code",
   "execution_count": 42,
   "id": "ae7fc7a5-29a5-40b3-a13d-83ca0c1636b4",
   "metadata": {},
   "outputs": [
    {
     "data": {
      "text/html": [
       "<div>\n",
       "<style scoped>\n",
       "    .dataframe tbody tr th:only-of-type {\n",
       "        vertical-align: middle;\n",
       "    }\n",
       "\n",
       "    .dataframe tbody tr th {\n",
       "        vertical-align: top;\n",
       "    }\n",
       "\n",
       "    .dataframe thead th {\n",
       "        text-align: right;\n",
       "    }\n",
       "</style>\n",
       "<table border=\"1\" class=\"dataframe\">\n",
       "  <thead>\n",
       "    <tr style=\"text-align: right;\">\n",
       "      <th></th>\n",
       "      <th>name</th>\n",
       "      <th>start</th>\n",
       "      <th>end</th>\n",
       "      <th>length</th>\n",
       "    </tr>\n",
       "  </thead>\n",
       "  <tbody>\n",
       "    <tr>\n",
       "      <th>8</th>\n",
       "      <td>SARSCoV_1200_17</td>\n",
       "      <td>16624</td>\n",
       "      <td>17775</td>\n",
       "      <td>1151</td>\n",
       "    </tr>\n",
       "  </tbody>\n",
       "</table>\n",
       "</div>"
      ],
      "text/plain": [
       "              name  start    end  length\n",
       "8  SARSCoV_1200_17  16624  17775    1151"
      ]
     },
     "execution_count": 42,
     "metadata": {},
     "output_type": "execute_result"
    }
   ],
   "source": [
    "row"
   ]
  },
  {
   "cell_type": "code",
   "execution_count": 59,
   "id": "e8d5361a-9fb6-4662-8b81-5be8b6db743e",
   "metadata": {},
   "outputs": [],
   "source": []
  },
  {
   "cell_type": "code",
   "execution_count": 60,
   "id": "3a2ee913-fbb1-4fc9-8c07-9e8b86d52d11",
   "metadata": {},
   "outputs": [
    {
     "data": {
      "text/plain": [
       "array([False, False, False, ..., False, False, False])"
      ]
     },
     "execution_count": 60,
     "metadata": {},
     "output_type": "execute_result"
    }
   ],
   "source": [
    "mask"
   ]
  },
  {
   "cell_type": "code",
   "execution_count": 64,
   "id": "ca2f85ab-840e-4a9e-80f4-c87c9f5b38a2",
   "metadata": {},
   "outputs": [
    {
     "data": {
      "text/plain": [
       "0"
      ]
     },
     "execution_count": 64,
     "metadata": {},
     "output_type": "execute_result"
    }
   ],
   "source": [
    "sum(mask)"
   ]
  },
  {
   "cell_type": "code",
   "execution_count": 23,
   "id": "9c881e46-5b86-421d-8fec-dbbce158632d",
   "metadata": {},
   "outputs": [],
   "source": [
    "a = numpy.array([False, False, True, True, True, False, False])\n",
    "b = numpy.array([False, True,  True, False, False, False, False])"
   ]
  },
  {
   "cell_type": "code",
   "execution_count": 26,
   "id": "bb7a25e7-ebd4-4014-a6bd-70cc2ede67b8",
   "metadata": {},
   "outputs": [
    {
     "data": {
      "text/plain": [
       "array([False, False,  True, False, False, False, False])"
      ]
     },
     "execution_count": 26,
     "metadata": {},
     "output_type": "execute_result"
    }
   ],
   "source": [
    "a * b"
   ]
  },
  {
   "cell_type": "code",
   "execution_count": 75,
   "id": "ef1196ae-47c4-4a33-9759-119805194f6d",
   "metadata": {},
   "outputs": [
    {
     "name": "stdout",
     "output_type": "stream",
     "text": [
      "1151\n",
      "SARSCoV_1200_16 29786\n",
      "SARSCoV_1200_18 29750\n",
      "881\n"
     ]
    }
   ],
   "source": [
    "chosen_amplicon = 'SARSCoV_1200_17'\n",
    "row = amplicons[amplicons.name == chosen_amplicon]\n",
    "\n",
    "mask = (covid_reference.nucleotide_index >= int(row['start'])) & (covid_reference.nucleotide_index < int(row['end']))\n",
    "print(numpy.sum(mask))\n",
    "\n",
    "for idx, row in amplicons.iterrows():\n",
    "\n",
    "    if row['name'] == chosen_amplicon:\n",
    "        continue\n",
    "    \n",
    "    current_amplicon_mask = (covid_reference.nucleotide_index >= int(row['start'])) & (covid_reference.nucleotide_index < int(row['end']))\n",
    "    \n",
    "    overlap_region = current_amplicon_mask & mask\n",
    "    \n",
    "    overlap_region = numpy.logical_not(overlap_region)\n",
    "    \n",
    "    if numpy.sum(overlap_region) != 29903:\n",
    "        print(row['name'], numpy.sum(overlap_region))\n",
    "    \n",
    "    mask = overlap_region & mask\n",
    "\n",
    "print(numpy.sum(mask))\n",
    "\n",
    "covid_reference.nucleotide_sequence[mask] = 'n'"
   ]
  },
  {
   "cell_type": "code",
   "execution_count": 76,
   "id": "9c066a4b-fc05-4d13-ae47-322726cb83a5",
   "metadata": {},
   "outputs": [
    {
     "data": {
      "text/plain": [
       "array(['n', 'n', 'n', 'n', 'n', 'n', 'n', 'n', 'n', 'n', 'n', 'n', 'n',\n",
       "       'n', 'n', 'n', 'n', 'n', 'n', 'n', 'n', 'n', 'n', 'n', 'n', 'n',\n",
       "       'n', 'n', 'n', 'n', 'n', 'n', 'n', 'n', 'n', 'n', 'n', 'n', 'n',\n",
       "       'n', 'n', 'n', 'n', 'n', 'n', 'n', 'n', 'n', 'n', 'n', 'n', 'n',\n",
       "       'n', 'n', 'n', 'n', 'n', 'n', 'n', 'n', 'n', 'n', 'n', 'n', 'n',\n",
       "       'n', 'n', 'n', 'n', 'n', 'n', 'n', 'n', 'n', 'n', 'n', 'n', 'n',\n",
       "       'n', 'n', 'n', 'n', 'n', 'n', 'n', 'n', 'n', 'n', 'n', 'n', 'n',\n",
       "       'n', 'n', 'n', 'n', 'n', 'n', 'n', 'n', 'n', 'n', 'n', 'n', 'n',\n",
       "       'n', 'n', 'n', 'n', 'n', 'n', 'n', 'n', 'n', 'n', 'n', 'n', 'n',\n",
       "       'n', 'n', 'n', 'n', 'n', 'n', 'n', 'n', 'n', 'n', 'n', 'n', 'n',\n",
       "       'n', 'n', 'n', 'n', 'n', 'n', 'n', 'n', 'n', 'n', 'n', 'n', 'n',\n",
       "       'n', 'n', 'n', 'n', 'n', 'n', 'n', 'n', 'n', 'n', 'n', 'n', 'n',\n",
       "       'n', 'n', 'n', 'n', 'n', 'n', 'n', 'n', 'n', 'n', 'n', 'n', 'n',\n",
       "       'n', 'n', 'n', 'n', 'n', 'n', 'n', 'n', 'n', 'n', 'n', 'n', 'n',\n",
       "       'n', 'n', 'n', 'n', 'n', 'n', 'n', 'n', 'n', 'n', 'n', 'n', 'n',\n",
       "       'n', 'n', 'n', 'n', 'n', 'n', 'n', 'n', 'n', 'n', 'n', 'n', 'n',\n",
       "       'n', 'n', 'n', 'n', 'n', 'n', 'n', 'n', 'n', 'n', 'n', 'n', 'n',\n",
       "       'n', 'n', 'n', 'n', 'n', 'n', 'n', 'n', 'n', 'n', 'n', 'n', 'n',\n",
       "       'n', 'n', 'n', 'n', 'n', 'n', 'n', 'n', 'n', 'n', 'n', 'n', 'n',\n",
       "       'n', 'n', 'n', 'n', 'n', 'n', 'n', 'n', 'n', 'n', 'n', 'n', 'n',\n",
       "       'n', 'n', 'n', 'n', 'n', 'n', 'n', 'n', 'n', 'n', 'n', 'n', 'n',\n",
       "       'n', 'n', 'n', 'n', 'n', 'n', 'n', 'n', 'n', 'n', 'n', 'n', 'n',\n",
       "       'n', 'n', 'n', 'n', 'n', 'n', 'n', 'n', 'n', 'n', 'n', 'n', 'n',\n",
       "       'n', 'n', 'n', 'n', 'n', 'n', 'n', 'n', 'n', 'n', 'n', 'n', 'n',\n",
       "       'n', 'n', 'n', 'n', 'n', 'n', 'n', 'n', 'n', 'n', 'n', 'n', 'n',\n",
       "       'n', 'n', 'n', 'n', 'n', 'n', 'n', 'n', 'n', 'n', 'n', 'n', 'n',\n",
       "       'n', 'n', 'n', 'n', 'n', 'n', 'n', 'n', 'n', 'n', 'n', 'n', 'n',\n",
       "       'n', 'n', 'n', 'n', 'n', 'n', 'n', 'n', 'n', 'n', 'n', 'n', 'n',\n",
       "       'n', 'n', 'n', 'n', 'n', 'n', 'n', 'n', 'n', 'n', 'n', 'n', 'n',\n",
       "       'n', 'n', 'n', 'n', 'n', 'n', 'n', 'n', 'n', 'n', 'n', 'n', 'n',\n",
       "       'n', 'n', 'n', 'n', 'n', 'n', 'n', 'n', 'n', 'n', 'n', 'n', 'n',\n",
       "       'n', 'n', 'n', 'n', 'n', 'n', 'n', 'n', 'n', 'n', 'n', 'n', 'n',\n",
       "       'n', 'n', 'n', 'n', 'n', 'n', 'n', 'n', 'n', 'n', 'n', 'n', 'n',\n",
       "       'n', 'n', 'n', 'n', 'n', 'n', 'n', 'n', 'n', 'n', 'n', 'n', 'n',\n",
       "       'n', 'n', 'n', 'n', 'n', 'n', 'n', 'n', 'n', 'n', 'n', 'n', 'n',\n",
       "       'n', 'n', 'n', 'n', 'n', 'n', 'n', 'n', 'n', 'n', 'n', 'n', 'n',\n",
       "       'n', 'n', 'n', 'n', 'n', 'n', 'n', 'n', 'n', 'n', 'n', 'n', 'n',\n",
       "       'n', 'n', 'n', 'n', 'n', 'n', 'n', 'n', 'n', 'n', 'n', 'n', 'n',\n",
       "       'n', 'n', 'n', 'n', 'n', 'n', 'n', 'n', 'n', 'n', 'n', 'n', 'n',\n",
       "       'n', 'n', 'n', 'n', 'n', 'n', 'n', 'n', 'n', 'n', 'n', 'n', 'n',\n",
       "       'n', 'n', 'n', 'n', 'n', 'n', 'n', 'n', 'n', 'n', 'n', 'n', 'n',\n",
       "       'n', 'n', 'n', 'n', 'n', 'n', 'n', 'n', 'n', 'n', 'n', 'n', 'n',\n",
       "       'n', 'n', 'n', 'n', 'n', 'n', 'n', 'n', 'n', 'n', 'n', 'n', 'n',\n",
       "       'n', 'n', 'n', 'n', 'n', 'n', 'n', 'n', 'n', 'n', 'n', 'n', 'n',\n",
       "       'n', 'n', 'n', 'n', 'n', 'n', 'n', 'n', 'n', 'n', 'n', 'n', 'n',\n",
       "       'n', 'n', 'n', 'n', 'n', 'n', 'n', 'n', 'n', 'n', 'n', 'n', 'n',\n",
       "       'n', 'n', 'n', 'n', 'n', 'n', 'n', 'n', 'n', 'n', 'n', 'n', 'n',\n",
       "       'n', 'n', 'n', 'n', 'n', 'n', 'n', 'n', 'n', 'n', 'n', 'n', 'n',\n",
       "       'n', 'n', 'n', 'n', 'n', 'n', 'n', 'n', 'n', 'n', 'n', 'n', 'n',\n",
       "       'n', 'n', 'n', 'n', 'n', 'n', 'n', 'n', 'n', 'n', 'n', 'n', 'n',\n",
       "       'n', 'n', 'n', 'n', 'n', 'n', 'n', 'n', 'n', 'n', 'n', 'n', 'n',\n",
       "       'n', 'n', 'n', 'n', 'n', 'n', 'n', 'n', 'n', 'n', 'n', 'n', 'n',\n",
       "       'n', 'n', 'n', 'n', 'n', 'n', 'n', 'n', 'n', 'n', 'n', 'n', 'n',\n",
       "       'n', 'n', 'n', 'n', 'n', 'n', 'n', 'n', 'n', 'n', 'n', 'n', 'n',\n",
       "       'n', 'n', 'n', 'n', 'n', 'n', 'n', 'n', 'n', 'n', 'n', 'n', 'n',\n",
       "       'n', 'n', 'n', 'n', 'n', 'n', 'n', 'n', 'n', 'n', 'n', 'n', 'n',\n",
       "       'n', 'n', 'n', 'n', 'n', 'n', 'n', 'n', 'n', 'n', 'n', 'n', 'n',\n",
       "       'n', 'n', 'n', 'n', 'n', 'n', 'n', 'n', 'n', 'n', 'n', 'n', 'n',\n",
       "       'n', 'n', 'n', 'n', 'n', 'n', 'n', 'n', 'n', 'n', 'n', 'n', 'n',\n",
       "       'n', 'n', 'n', 'n', 'n', 'n', 'n', 'n', 'n', 'n', 'n', 'n', 'n',\n",
       "       'n', 'n', 'n', 'n', 'n', 'n', 'n', 'n', 'n', 'n', 'n', 'n', 'n',\n",
       "       'n', 'n', 'n', 'n', 'n', 'n', 'n', 'n', 'n', 'n', 'n', 'n', 'n',\n",
       "       'n', 'n', 'n', 'n', 'n', 'n', 'n', 'n', 'n', 'n', 'n', 'n', 'n',\n",
       "       'n', 'n', 'n', 'n', 'n', 'n', 'n', 'n', 'n', 'n', 'n', 'n', 'n',\n",
       "       'n', 'n', 'n', 'n', 'n', 'n', 'n', 'n', 'n', 'n', 'n', 'n', 'n',\n",
       "       'n', 'n', 'n', 'n', 'n', 'n', 'n', 'n', 'n', 'n', 'n', 'n', 'n',\n",
       "       'n', 'n', 'n', 'n', 'n', 'n', 'n', 'n', 'n', 'n', 'n', 'n', 'n',\n",
       "       'n', 'n', 'n', 'n', 'n', 'n', 'n', 'n', 'n', 'n'], dtype='<U1')"
      ]
     },
     "execution_count": 76,
     "metadata": {},
     "output_type": "execute_result"
    }
   ],
   "source": [
    "covid_reference.nucleotide_sequence[mask]"
   ]
  },
  {
   "cell_type": "code",
   "execution_count": 63,
   "id": "c77d6b59-58d4-4ba5-9fab-b00025ab1fb1",
   "metadata": {},
   "outputs": [
    {
     "data": {
      "text/plain": [
       "29141"
      ]
     },
     "execution_count": 63,
     "metadata": {},
     "output_type": "execute_result"
    }
   ],
   "source": [
    "sum(overlap_region)"
   ]
  },
  {
   "cell_type": "code",
   "execution_count": 35,
   "id": "92bb4338-af04-48d3-a1e0-b13b16d618fd",
   "metadata": {},
   "outputs": [
    {
     "data": {
      "text/plain": [
       "array([16624, 16625, 16626, ..., 17772, 17773, 17774])"
      ]
     },
     "execution_count": 35,
     "metadata": {},
     "output_type": "execute_result"
    }
   ],
   "source": [
    "covid_reference.nucleotide_index[mask]"
   ]
  },
  {
   "cell_type": "code",
   "execution_count": 4,
   "id": "2a88829e-a6d5-4844-a4cc-24d30d08a3ac",
   "metadata": {},
   "outputs": [],
   "source": [
    "amplicons['length'] = amplicons['end']-amplicons['start']"
   ]
  },
  {
   "cell_type": "code",
   "execution_count": 5,
   "id": "5a47358b-1b25-4ba5-84ac-fdf17a5d5e27",
   "metadata": {},
   "outputs": [
    {
     "data": {
      "text/html": [
       "<div>\n",
       "<style scoped>\n",
       "    .dataframe tbody tr th:only-of-type {\n",
       "        vertical-align: middle;\n",
       "    }\n",
       "\n",
       "    .dataframe tbody tr th {\n",
       "        vertical-align: top;\n",
       "    }\n",
       "\n",
       "    .dataframe thead th {\n",
       "        text-align: right;\n",
       "    }\n",
       "</style>\n",
       "<table border=\"1\" class=\"dataframe\">\n",
       "  <thead>\n",
       "    <tr style=\"text-align: right;\">\n",
       "      <th></th>\n",
       "      <th>name</th>\n",
       "      <th>start</th>\n",
       "      <th>end</th>\n",
       "      <th>length</th>\n",
       "    </tr>\n",
       "  </thead>\n",
       "  <tbody>\n",
       "    <tr>\n",
       "      <th>0</th>\n",
       "      <td>SARSCoV_1200_1</td>\n",
       "      <td>30</td>\n",
       "      <td>1226</td>\n",
       "      <td>1196</td>\n",
       "    </tr>\n",
       "    <tr>\n",
       "      <th>1</th>\n",
       "      <td>SARSCoV_1200_3</td>\n",
       "      <td>2153</td>\n",
       "      <td>3278</td>\n",
       "      <td>1125</td>\n",
       "    </tr>\n",
       "    <tr>\n",
       "      <th>2</th>\n",
       "      <td>SARSCoV_1200_5</td>\n",
       "      <td>4167</td>\n",
       "      <td>5380</td>\n",
       "      <td>1213</td>\n",
       "    </tr>\n",
       "    <tr>\n",
       "      <th>3</th>\n",
       "      <td>SARSCoV_1200_7</td>\n",
       "      <td>6283</td>\n",
       "      <td>7422</td>\n",
       "      <td>1139</td>\n",
       "    </tr>\n",
       "    <tr>\n",
       "      <th>4</th>\n",
       "      <td>SARSCoV_1200_9</td>\n",
       "      <td>8253</td>\n",
       "      <td>9421</td>\n",
       "      <td>1168</td>\n",
       "    </tr>\n",
       "    <tr>\n",
       "      <th>5</th>\n",
       "      <td>SARSCoV_1200_11</td>\n",
       "      <td>10343</td>\n",
       "      <td>11490</td>\n",
       "      <td>1147</td>\n",
       "    </tr>\n",
       "    <tr>\n",
       "      <th>6</th>\n",
       "      <td>SARSCoV_1200_13</td>\n",
       "      <td>12450</td>\n",
       "      <td>13642</td>\n",
       "      <td>1192</td>\n",
       "    </tr>\n",
       "    <tr>\n",
       "      <th>7</th>\n",
       "      <td>SARSCoV_1200_15</td>\n",
       "      <td>14540</td>\n",
       "      <td>15756</td>\n",
       "      <td>1216</td>\n",
       "    </tr>\n",
       "    <tr>\n",
       "      <th>8</th>\n",
       "      <td>SARSCoV_1200_17</td>\n",
       "      <td>16624</td>\n",
       "      <td>17775</td>\n",
       "      <td>1151</td>\n",
       "    </tr>\n",
       "    <tr>\n",
       "      <th>9</th>\n",
       "      <td>SARSCoV_1200_19</td>\n",
       "      <td>18596</td>\n",
       "      <td>19700</td>\n",
       "      <td>1104</td>\n",
       "    </tr>\n",
       "    <tr>\n",
       "      <th>10</th>\n",
       "      <td>SARSCoV_1200_21</td>\n",
       "      <td>20553</td>\n",
       "      <td>21663</td>\n",
       "      <td>1110</td>\n",
       "    </tr>\n",
       "    <tr>\n",
       "      <th>11</th>\n",
       "      <td>SARSCoV_1200_23</td>\n",
       "      <td>22511</td>\n",
       "      <td>23652</td>\n",
       "      <td>1141</td>\n",
       "    </tr>\n",
       "    <tr>\n",
       "      <th>12</th>\n",
       "      <td>SARSCoV_1200_25</td>\n",
       "      <td>24633</td>\n",
       "      <td>25811</td>\n",
       "      <td>1178</td>\n",
       "    </tr>\n",
       "    <tr>\n",
       "      <th>13</th>\n",
       "      <td>SARSCoV_1200_27</td>\n",
       "      <td>26744</td>\n",
       "      <td>27915</td>\n",
       "      <td>1171</td>\n",
       "    </tr>\n",
       "    <tr>\n",
       "      <th>14</th>\n",
       "      <td>SARSCoV_1200_29</td>\n",
       "      <td>28677</td>\n",
       "      <td>29811</td>\n",
       "      <td>1134</td>\n",
       "    </tr>\n",
       "    <tr>\n",
       "      <th>15</th>\n",
       "      <td>SARSCoV_1200_2</td>\n",
       "      <td>1100</td>\n",
       "      <td>2287</td>\n",
       "      <td>1187</td>\n",
       "    </tr>\n",
       "    <tr>\n",
       "      <th>16</th>\n",
       "      <td>SARSCoV_1200_4</td>\n",
       "      <td>3144</td>\n",
       "      <td>4283</td>\n",
       "      <td>1139</td>\n",
       "    </tr>\n",
       "    <tr>\n",
       "      <th>17</th>\n",
       "      <td>SARSCoV_1200_6</td>\n",
       "      <td>5257</td>\n",
       "      <td>6401</td>\n",
       "      <td>1144</td>\n",
       "    </tr>\n",
       "    <tr>\n",
       "      <th>18</th>\n",
       "      <td>SARSCoV_1200_8</td>\n",
       "      <td>7298</td>\n",
       "      <td>8406</td>\n",
       "      <td>1108</td>\n",
       "    </tr>\n",
       "    <tr>\n",
       "      <th>19</th>\n",
       "      <td>SARSCoV_1200_10</td>\n",
       "      <td>9303</td>\n",
       "      <td>10472</td>\n",
       "      <td>1169</td>\n",
       "    </tr>\n",
       "    <tr>\n",
       "      <th>20</th>\n",
       "      <td>SARSCoV_1200_12</td>\n",
       "      <td>11372</td>\n",
       "      <td>12581</td>\n",
       "      <td>1209</td>\n",
       "    </tr>\n",
       "    <tr>\n",
       "      <th>21</th>\n",
       "      <td>SARSCoV_1200_14</td>\n",
       "      <td>13509</td>\n",
       "      <td>14662</td>\n",
       "      <td>1153</td>\n",
       "    </tr>\n",
       "    <tr>\n",
       "      <th>22</th>\n",
       "      <td>SARSCoV_1200_16</td>\n",
       "      <td>15608</td>\n",
       "      <td>16741</td>\n",
       "      <td>1133</td>\n",
       "    </tr>\n",
       "    <tr>\n",
       "      <th>23</th>\n",
       "      <td>SARSCoV_1200_18</td>\n",
       "      <td>17622</td>\n",
       "      <td>18727</td>\n",
       "      <td>1105</td>\n",
       "    </tr>\n",
       "    <tr>\n",
       "      <th>24</th>\n",
       "      <td>SARSCoV_1200_20</td>\n",
       "      <td>19574</td>\n",
       "      <td>20719</td>\n",
       "      <td>1145</td>\n",
       "    </tr>\n",
       "    <tr>\n",
       "      <th>25</th>\n",
       "      <td>SARSCoV_1200_22</td>\n",
       "      <td>21532</td>\n",
       "      <td>22633</td>\n",
       "      <td>1101</td>\n",
       "    </tr>\n",
       "    <tr>\n",
       "      <th>26</th>\n",
       "      <td>SARSCoV_1200_24</td>\n",
       "      <td>23518</td>\n",
       "      <td>24757</td>\n",
       "      <td>1239</td>\n",
       "    </tr>\n",
       "    <tr>\n",
       "      <th>27</th>\n",
       "      <td>SARSCoV_1200_26</td>\n",
       "      <td>25690</td>\n",
       "      <td>26878</td>\n",
       "      <td>1188</td>\n",
       "    </tr>\n",
       "    <tr>\n",
       "      <th>28</th>\n",
       "      <td>SARSCoV_1200_28</td>\n",
       "      <td>27784</td>\n",
       "      <td>29028</td>\n",
       "      <td>1244</td>\n",
       "    </tr>\n",
       "  </tbody>\n",
       "</table>\n",
       "</div>"
      ],
      "text/plain": [
       "               name  start    end  length\n",
       "0    SARSCoV_1200_1     30   1226    1196\n",
       "1    SARSCoV_1200_3   2153   3278    1125\n",
       "2    SARSCoV_1200_5   4167   5380    1213\n",
       "3    SARSCoV_1200_7   6283   7422    1139\n",
       "4    SARSCoV_1200_9   8253   9421    1168\n",
       "5   SARSCoV_1200_11  10343  11490    1147\n",
       "6   SARSCoV_1200_13  12450  13642    1192\n",
       "7   SARSCoV_1200_15  14540  15756    1216\n",
       "8   SARSCoV_1200_17  16624  17775    1151\n",
       "9   SARSCoV_1200_19  18596  19700    1104\n",
       "10  SARSCoV_1200_21  20553  21663    1110\n",
       "11  SARSCoV_1200_23  22511  23652    1141\n",
       "12  SARSCoV_1200_25  24633  25811    1178\n",
       "13  SARSCoV_1200_27  26744  27915    1171\n",
       "14  SARSCoV_1200_29  28677  29811    1134\n",
       "15   SARSCoV_1200_2   1100   2287    1187\n",
       "16   SARSCoV_1200_4   3144   4283    1139\n",
       "17   SARSCoV_1200_6   5257   6401    1144\n",
       "18   SARSCoV_1200_8   7298   8406    1108\n",
       "19  SARSCoV_1200_10   9303  10472    1169\n",
       "20  SARSCoV_1200_12  11372  12581    1209\n",
       "21  SARSCoV_1200_14  13509  14662    1153\n",
       "22  SARSCoV_1200_16  15608  16741    1133\n",
       "23  SARSCoV_1200_18  17622  18727    1105\n",
       "24  SARSCoV_1200_20  19574  20719    1145\n",
       "25  SARSCoV_1200_22  21532  22633    1101\n",
       "26  SARSCoV_1200_24  23518  24757    1239\n",
       "27  SARSCoV_1200_26  25690  26878    1188\n",
       "28  SARSCoV_1200_28  27784  29028    1244"
      ]
     },
     "execution_count": 5,
     "metadata": {},
     "output_type": "execute_result"
    }
   ],
   "source": [
    "amplicons"
   ]
  },
  {
   "cell_type": "code",
   "execution_count": 27,
   "id": "445ebdbf-37ca-4e7b-82a3-67d42acb938c",
   "metadata": {},
   "outputs": [
    {
     "data": {
      "text/html": [
       "<div>\n",
       "<style scoped>\n",
       "    .dataframe tbody tr th:only-of-type {\n",
       "        vertical-align: middle;\n",
       "    }\n",
       "\n",
       "    .dataframe tbody tr th {\n",
       "        vertical-align: top;\n",
       "    }\n",
       "\n",
       "    .dataframe thead th {\n",
       "        text-align: right;\n",
       "    }\n",
       "</style>\n",
       "<table border=\"1\" class=\"dataframe\">\n",
       "  <thead>\n",
       "    <tr style=\"text-align: right;\">\n",
       "      <th></th>\n",
       "      <th>pango_lineage</th>\n",
       "      <th>who_label</th>\n",
       "    </tr>\n",
       "  </thead>\n",
       "  <tbody>\n",
       "    <tr>\n",
       "      <th>0</th>\n",
       "      <td>cB.1.1.7</td>\n",
       "      <td>Alpha</td>\n",
       "    </tr>\n",
       "    <tr>\n",
       "      <th>1</th>\n",
       "      <td>cB.1.351</td>\n",
       "      <td>Beta</td>\n",
       "    </tr>\n",
       "    <tr>\n",
       "      <th>2</th>\n",
       "      <td>cP.1</td>\n",
       "      <td>Gamma</td>\n",
       "    </tr>\n",
       "  </tbody>\n",
       "</table>\n",
       "</div>"
      ],
      "text/plain": [
       "  pango_lineage who_label\n",
       "0      cB.1.1.7     Alpha\n",
       "1      cB.1.351      Beta\n",
       "2          cP.1     Gamma"
      ]
     },
     "execution_count": 27,
     "metadata": {},
     "output_type": "execute_result"
    }
   ],
   "source": [
    "lineages_reference=gcsr.load_lineages_dataframe()\n",
    "lineages_reference[:3]"
   ]
  },
  {
   "cell_type": "code",
   "execution_count": 26,
   "id": "d2833eb6-fae3-4af2-b749-c4fda512d249",
   "metadata": {},
   "outputs": [
    {
     "data": {
      "text/plain": [
       "{'label': 'Alpha (B.1.1.7-like)',\n",
       " 'description': 'B.1.1.7 lineage defining mutations',\n",
       " 'sources': ['https://virological.org/t/563'],\n",
       " 'type': 'variant',\n",
       " 'variant': {'Pango_lineages': ['B.1.1.7'],\n",
       "  'mrca_lineage': 'B.1.1.7',\n",
       "  'PHE_label': 'VOC-20DEC-01',\n",
       "  'WHO_label': 'Alpha',\n",
       "  'representative_genome': ''},\n",
       " 'tags': ['B.1.1.7', 'VOC 202012/01'],\n",
       " 'sites': ['nuc:C913T',\n",
       "  '1ab:T1001I',\n",
       "  '1ab:A1708D',\n",
       "  'nuc:C5986T',\n",
       "  '1ab:I2230T',\n",
       "  '1ab:SGF3675-',\n",
       "  'nuc:C14676T',\n",
       "  'nuc:C15279T',\n",
       "  'nuc:T16176C',\n",
       "  's:HV69-',\n",
       "  's:Y144-',\n",
       "  's:N501Y',\n",
       "  's:A570D',\n",
       "  's:P681H',\n",
       "  's:T716I',\n",
       "  's:S982A',\n",
       "  's:D1118H',\n",
       "  'nuc:C26801T',\n",
       "  '8:Q27*',\n",
       "  '8:R52I',\n",
       "  '8:Y73C',\n",
       "  'N:D3L',\n",
       "  'N:S235F'],\n",
       " 'rules': {'min_alt': 15, 'max_ref': 3}}"
      ]
     },
     "execution_count": 26,
     "metadata": {},
     "output_type": "execute_result"
    }
   ],
   "source": [
    "pango_definitions=gcsr.load_pango_definitions('../constellations/', lineages_reference)\n",
    "pango_definitions['cB.1.1.7']"
   ]
  },
  {
   "cell_type": "code",
   "execution_count": 6,
   "id": "4c3c8dff-5c09-4f6b-bc04-1a62e81d9d89",
   "metadata": {},
   "outputs": [],
   "source": []
  },
  {
   "cell_type": "code",
   "execution_count": 9,
   "id": "b0c20c35-44cc-438d-b517-c44bcd2f140c",
   "metadata": {},
   "outputs": [
    {
     "data": {
      "text/plain": [
       "array([    1,     2,     3, ..., 29901, 29902, 29903])"
      ]
     },
     "execution_count": 9,
     "metadata": {},
     "output_type": "execute_result"
    }
   ],
   "source": []
  },
  {
   "cell_type": "code",
   "execution_count": 2,
   "id": "dcc87ceb-0dc1-4b75-b721-beeced75534c",
   "metadata": {},
   "outputs": [],
   "source": [
    "variant_definitions=gcsr.load_variant_definitions('../variant_definitions/')"
   ]
  },
  {
   "cell_type": "code",
   "execution_count": 4,
   "id": "4c02c225-6342-47f9-ba77-d5a60282b958",
   "metadata": {},
   "outputs": [],
   "source": [
    "omicron=gcsr.VariantGenome(covid_reference,variant_definitions['Omicron'])"
   ]
  },
  {
   "cell_type": "code",
   "execution_count": 5,
   "id": "cd439b44-2b2e-4655-b5d0-c0cb5b6abdb9",
   "metadata": {},
   "outputs": [
    {
     "data": {
      "text/plain": [
       "MN908947\n",
       "MN908947.3\n",
       "Severe acute respiratory syndrome coronavirus 2 isolate Wuhan-Hu-1, complete genome\n",
       "29903 bases\n",
       "attaaa...aaaaaa\n",
       "metadata for all genes/loci have been included"
      ]
     },
     "execution_count": 5,
     "metadata": {},
     "output_type": "execute_result"
    }
   ],
   "source": [
    "omicron.variant"
   ]
  },
  {
   "cell_type": "code",
   "execution_count": 8,
   "id": "a88735f4-ed81-49ce-beb6-f2fcf8e2ffa7",
   "metadata": {},
   "outputs": [],
   "source": [
    "diff = covid_reference - omicron.variant"
   ]
  },
  {
   "cell_type": "code",
   "execution_count": 11,
   "id": "8188711f-412c-4421-9ff1-3567f742e25c",
   "metadata": {},
   "outputs": [],
   "source": [
    "import numpy"
   ]
  },
  {
   "cell_type": "code",
   "execution_count": 12,
   "id": "02967a3e-c630-464b-bc3c-b185dd2e0275",
   "metadata": {},
   "outputs": [
    {
     "data": {
      "text/plain": [
       "array([ 2832,  8393, 10449, 13195, 15240, 18163, 22578, 22673, 22674,\n",
       "       22679, 22813, 22882, 22898, 22992, 23013, 23040, 23048, 23055,\n",
       "       23202, 23525, 23599, 25000, 26530, 26577, 26709, 27259, 27807,\n",
       "        6513, 11287, 21765, 21987])"
      ]
     },
     "execution_count": 12,
     "metadata": {},
     "output_type": "execute_result"
    }
   ],
   "source": [
    "diff.nucleotide_index"
   ]
  },
  {
   "cell_type": "code",
   "execution_count": 13,
   "id": "9373b7c8-394b-4ae6-9b2e-5f3fa76927c9",
   "metadata": {},
   "outputs": [
    {
     "data": {
      "text/plain": [
       "array(['a', 'g', 'g', 'c', 'g', 't', 'c', 'a', 't', 'g', 'g', 't', 'c',\n",
       "       't', 'g', 't', 'g', 'g', 'a', 'a', 'g', 'a', 'c', 'c', 't', 'c',\n",
       "       'a', 'c', 'g', 'a', 'c'], dtype='<U1')"
      ]
     },
     "execution_count": 13,
     "metadata": {},
     "output_type": "execute_result"
    }
   ],
   "source": [
    "covid_reference.nucleotide_sequence[numpy.isin(covid_reference.nucleotide_index,diff.nucleotide_index)]"
   ]
  },
  {
   "cell_type": "code",
   "execution_count": 14,
   "id": "27162483-6c20-4b0c-bd65-7af08f5de7c1",
   "metadata": {},
   "outputs": [
    {
     "data": {
      "text/plain": [
       "{'orf1ab': {'reverse_complement': False,\n",
       "  'type': 'GENE',\n",
       "  'codes_protein': True,\n",
       "  'start': 266,\n",
       "  'end': 21556,\n",
       "  'ribosomal_shifts': [13202]},\n",
       " 'S': {'reverse_complement': False,\n",
       "  'type': 'GENE',\n",
       "  'codes_protein': True,\n",
       "  'start': 21563,\n",
       "  'end': 25385,\n",
       "  'ribosomal_shifts': []},\n",
       " 'ORF3a': {'reverse_complement': False,\n",
       "  'type': 'GENE',\n",
       "  'codes_protein': True,\n",
       "  'start': 25393,\n",
       "  'end': 26221,\n",
       "  'ribosomal_shifts': []},\n",
       " 'E': {'reverse_complement': False,\n",
       "  'type': 'GENE',\n",
       "  'codes_protein': True,\n",
       "  'start': 26245,\n",
       "  'end': 26473,\n",
       "  'ribosomal_shifts': []},\n",
       " 'M': {'reverse_complement': False,\n",
       "  'type': 'GENE',\n",
       "  'codes_protein': True,\n",
       "  'start': 26523,\n",
       "  'end': 27192,\n",
       "  'ribosomal_shifts': []},\n",
       " 'ORF6': {'reverse_complement': False,\n",
       "  'type': 'GENE',\n",
       "  'codes_protein': True,\n",
       "  'start': 27202,\n",
       "  'end': 27388,\n",
       "  'ribosomal_shifts': []},\n",
       " 'ORF7a': {'reverse_complement': False,\n",
       "  'type': 'GENE',\n",
       "  'codes_protein': True,\n",
       "  'start': 27394,\n",
       "  'end': 27760,\n",
       "  'ribosomal_shifts': []},\n",
       " 'ORF8': {'reverse_complement': False,\n",
       "  'type': 'GENE',\n",
       "  'codes_protein': True,\n",
       "  'start': 27894,\n",
       "  'end': 28260,\n",
       "  'ribosomal_shifts': []},\n",
       " 'N': {'reverse_complement': False,\n",
       "  'type': 'GENE',\n",
       "  'codes_protein': True,\n",
       "  'start': 28274,\n",
       "  'end': 29534,\n",
       "  'ribosomal_shifts': []},\n",
       " 'ORF10': {'reverse_complement': False,\n",
       "  'type': 'GENE',\n",
       "  'codes_protein': True,\n",
       "  'start': 29558,\n",
       "  'end': 29675,\n",
       "  'ribosomal_shifts': []}}"
      ]
     },
     "execution_count": 14,
     "metadata": {},
     "output_type": "execute_result"
    }
   ],
   "source": [
    "covid_reference.genes"
   ]
  },
  {
   "cell_type": "code",
   "execution_count": 15,
   "id": "01e6de9a-d615-46a1-8145-964a5ab60148",
   "metadata": {},
   "outputs": [
    {
     "name": "stdout",
     "output_type": "stream",
     "text": [
      "orf1ab ['K856R' 'A2710T' 'P3395H' 'V4310V' 'N4992N' 'I5967V' '6248_del_gtt'\n",
      " '11022_del_gtctggttt']\n",
      "S ['G339D' 'S371L' 'S373P' 'K417N' 'N440K' 'G446S' 'S477N' 'E484A' 'Q493R'\n",
      " 'G496S' 'Q498R' 'T547K' 'H655Y' 'N679K' 'D1146D' '203_del_tacatg'\n",
      " '425_del_gtgtttatt']\n",
      "ORF3a []\n",
      "E []\n",
      "M ['D3G' 'Q19E' 'A63T']\n",
      "ORF6 ['R20R']\n",
      "ORF7a []\n",
      "ORF8 ['c-87t']\n",
      "N []\n",
      "ORF10 []\n"
     ]
    }
   ],
   "source": [
    "\n",
    "for gene in covid_reference.genes:\n",
    "    v=omicron.variant.build_gene(gene)\n",
    "    r=covid_reference.build_gene(gene)\n",
    "    d=r-v\n",
    "    print(gene, d.mutations)"
   ]
  },
  {
   "cell_type": "code",
   "execution_count": 18,
   "id": "bc52a27b-bb79-48ee-b81d-8f115d2c2d89",
   "metadata": {},
   "outputs": [
    {
     "data": {
      "text/plain": [
       "array([], dtype=float64)"
      ]
     },
     "execution_count": 18,
     "metadata": {},
     "output_type": "execute_result"
    }
   ],
   "source": [
    "d.mutations"
   ]
  },
  {
   "cell_type": "code",
   "execution_count": 16,
   "id": "eaf2c562-e543-4620-b3e6-53b186f93978",
   "metadata": {},
   "outputs": [],
   "source": [
    "import json"
   ]
  },
  {
   "cell_type": "code",
   "execution_count": 20,
   "id": "c4deb0f2-c4a3-4688-ba60-a781dae1fc7f",
   "metadata": {},
   "outputs": [],
   "source": [
    "with open('constellations/constellations/definitions/cB.1.1.529.json') as INPUT:\n",
    "    a=json.load(INPUT)"
   ]
  },
  {
   "cell_type": "code",
   "execution_count": 22,
   "id": "8c9161fa-846d-4307-abec-d4136de18597",
   "metadata": {},
   "outputs": [
    {
     "data": {
      "text/plain": [
       "dict_keys(['label', 'description', 'sources', 'type', 'variant', 'tags', 'sites', 'note', 'rules'])"
      ]
     },
     "execution_count": 22,
     "metadata": {},
     "output_type": "execute_result"
    }
   ],
   "source": [
    "a.keys()"
   ]
  },
  {
   "cell_type": "raw",
   "id": "bdba4a34-af5a-4c7d-91a1-0e036560a845",
   "metadata": {},
   "source": [
    "a['sites']"
   ]
  },
  {
   "cell_type": "code",
   "execution_count": 51,
   "id": "584f792c-c87e-4c27-9ba4-9869259fda58",
   "metadata": {},
   "outputs": [],
   "source": [
    "ref=gumpy.Genome('gpas_covid_synthetic_reads/data/MN908947.3.gbk')\n",
    "ref2=gumpy.Genome('gpas_covid_synthetic_reads/data/NC_045512.2.gbk')"
   ]
  },
  {
   "cell_type": "code",
   "execution_count": 56,
   "id": "b11181e2-41a7-4e06-bc02-cbda99816c4e",
   "metadata": {},
   "outputs": [],
   "source": [
    "seq=''.join(i for i in ref.nucleotide_sequence)\n",
    "seq2=''.join(i for i in ref2.nucleotide_sequence)"
   ]
  },
  {
   "cell_type": "code",
   "execution_count": 57,
   "id": "f06c98bb-5b38-4408-9e18-a1d1c3b752d6",
   "metadata": {},
   "outputs": [
    {
     "data": {
      "text/plain": [
       "True"
      ]
     },
     "execution_count": 57,
     "metadata": {},
     "output_type": "execute_result"
    }
   ],
   "source": [
    "seq==seq2"
   ]
  },
  {
   "cell_type": "code",
   "execution_count": 59,
   "id": "12cb13a3-5ba8-45ea-af48-201607aab810",
   "metadata": {},
   "outputs": [
    {
     "data": {
      "text/plain": [
       "dict_keys(['ORF1ab', 'ORF1ab_2', 'S', 'ORF3a', 'E', 'M', 'ORF6', 'ORF7a', 'ORF7b', 'ORF8', 'N', 'ORF10'])"
      ]
     },
     "execution_count": 59,
     "metadata": {},
     "output_type": "execute_result"
    }
   ],
   "source": [
    "ref2.genes.keys()"
   ]
  },
  {
   "cell_type": "code",
   "execution_count": 39,
   "id": "bcbe64f8-5125-40d5-ab36-225b305d492a",
   "metadata": {},
   "outputs": [
    {
     "data": {
      "text/plain": [
       "dict_keys(['orf1ab', 'S', 'ORF3a', 'E', 'M', 'ORF6', 'ORF7a', 'ORF8', 'N', 'ORF10'])"
      ]
     },
     "execution_count": 39,
     "metadata": {},
     "output_type": "execute_result"
    }
   ],
   "source": [
    "ref.genes.keys()"
   ]
  },
  {
   "cell_type": "code",
   "execution_count": null,
   "id": "7300acda-6664-45f2-8fdc-7e6e32611ee8",
   "metadata": {},
   "outputs": [],
   "source": [
    "genes_lookup={'orf1ab': 'orf1ab',\n",
    "              'spike': 'S',\n",
    "              'e': 'E',\n",
    "              'm': 'M',\n",
    "              }"
   ]
  },
  {
   "cell_type": "code",
   "execution_count": 38,
   "id": "1f8e3881-3a4e-4f80-9973-8f3ff7918037",
   "metadata": {},
   "outputs": [
    {
     "data": {
      "text/plain": [
       "{'label': 'Omicron (B.1.1.529-like)',\n",
       " 'description': 'B.1.1.529 lineage defining mutations',\n",
       " 'sources': [],\n",
       " 'type': 'variant',\n",
       " 'variant': {'Pango_lineages': ['B.1.1.529'],\n",
       "  'WHO_label': 'Omicron',\n",
       "  'mrca_lineage': 'B.1.1.529',\n",
       "  'representative_genome': '',\n",
       "  'lineage_name': 'B.1.1.529',\n",
       "  'incompatible_lineage_calls': ['BA.1', 'BA.2', 'BA.3']},\n",
       " 'tags': ['B.1.1.529'],\n",
       " 'sites': ['nuc:C3037T',\n",
       "  'orf1ab:T3255I',\n",
       "  'orf1ab:P3395H',\n",
       "  'orf1ab:SGF3675-',\n",
       "  'nuc:T13195C',\n",
       "  'orf1ab:P4715L',\n",
       "  'orf1ab:I5967V',\n",
       "  'spike:G142D',\n",
       "  'spike:G339D',\n",
       "  'spike:S373P',\n",
       "  'spike:S375F',\n",
       "  'spike:K417N',\n",
       "  'spike:N440K',\n",
       "  'spike:S477N',\n",
       "  'spike:T478K',\n",
       "  'spike:E484A',\n",
       "  'spike:Q493R',\n",
       "  'spike:Q498R',\n",
       "  'spike:N501Y',\n",
       "  'spike:Y505H',\n",
       "  'spike:D614G',\n",
       "  'spike:H655Y',\n",
       "  'spike:N679K',\n",
       "  'spike:P681H',\n",
       "  'spike:N764K',\n",
       "  'spike:D796Y',\n",
       "  'spike:Q954H',\n",
       "  'spike:N969K',\n",
       "  'nuc:C25000T',\n",
       "  'nuc:C25584T',\n",
       "  'e:T9I',\n",
       "  'm:Q19E',\n",
       "  'm:A63T',\n",
       "  'nuc:A27259C',\n",
       "  'nuc:C27807T',\n",
       "  'nuc:A28271T',\n",
       "  'n:P13L',\n",
       "  'del:28362:9',\n",
       "  'n:RG203KR'],\n",
       " 'note': 'Common mutations to the sublineages found',\n",
       " 'rules': {'default': {'min_alt': 25, 'max_ref': 5, 'spike:D614G': 'not ref'},\n",
       "  'Probable': {'min_alt': 15, 'max_ref': 14}}}"
      ]
     },
     "execution_count": 38,
     "metadata": {},
     "output_type": "execute_result"
    }
   ],
   "source": [
    "a"
   ]
  },
  {
   "cell_type": "code",
   "execution_count": 69,
   "id": "3aabcca2-0f6a-4327-8108-421c80eb10e6",
   "metadata": {},
   "outputs": [
    {
     "data": {
      "text/plain": [
       "{'label': 'Omicron (B.1.1.529-like)',\n",
       " 'description': 'B.1.1.529 lineage defining mutations',\n",
       " 'sources': [],\n",
       " 'type': 'variant',\n",
       " 'variant': {'Pango_lineages': ['B.1.1.529'],\n",
       "  'WHO_label': 'Omicron',\n",
       "  'mrca_lineage': 'B.1.1.529',\n",
       "  'representative_genome': '',\n",
       "  'lineage_name': 'B.1.1.529',\n",
       "  'incompatible_lineage_calls': ['BA.1', 'BA.2', 'BA.3']},\n",
       " 'tags': ['B.1.1.529'],\n",
       " 'sites': ['nuc:C3037T',\n",
       "  'orf1ab:T3255I',\n",
       "  'orf1ab:P3395H',\n",
       "  'orf1ab:SGF3675-',\n",
       "  'nuc:T13195C',\n",
       "  'orf1ab:P4715L',\n",
       "  'orf1ab:I5967V',\n",
       "  'spike:G142D',\n",
       "  'spike:G339D',\n",
       "  'spike:S373P',\n",
       "  'spike:S375F',\n",
       "  'spike:K417N',\n",
       "  'spike:N440K',\n",
       "  'spike:S477N',\n",
       "  'spike:T478K',\n",
       "  'spike:E484A',\n",
       "  'spike:Q493R',\n",
       "  'spike:Q498R',\n",
       "  'spike:N501Y',\n",
       "  'spike:Y505H',\n",
       "  'spike:D614G',\n",
       "  'spike:H655Y',\n",
       "  'spike:N679K',\n",
       "  'spike:P681H',\n",
       "  'spike:N764K',\n",
       "  'spike:D796Y',\n",
       "  'spike:Q954H',\n",
       "  'spike:N969K',\n",
       "  'nuc:C25000T',\n",
       "  'nuc:C25584T',\n",
       "  'e:T9I',\n",
       "  'm:Q19E',\n",
       "  'm:A63T',\n",
       "  'nuc:A27259C',\n",
       "  'nuc:C27807T',\n",
       "  'nuc:A28271T',\n",
       "  'n:P13L',\n",
       "  'del:28362:9',\n",
       "  'n:RG203KR'],\n",
       " 'note': 'Common mutations to the sublineages found',\n",
       " 'rules': {'default': {'min_alt': 25, 'max_ref': 5, 'spike:D614G': 'not ref'},\n",
       "  'Probable': {'min_alt': 15, 'max_ref': 14}}}"
      ]
     },
     "execution_count": 69,
     "metadata": {},
     "output_type": "execute_result"
    }
   ],
   "source": [
    "a"
   ]
  },
  {
   "cell_type": "code",
   "execution_count": 68,
   "id": "fa27145e-5b53-404f-957e-196c2834be55",
   "metadata": {},
   "outputs": [
    {
     "name": "stdout",
     "output_type": "stream",
     "text": [
      "mutate genome, easy\n",
      "orf1ab:T3255I\n",
      "orf1ab:P3395H\n",
      "orf1ab:SGF3675-\n",
      "mutate genome, easy\n",
      "orf1ab:P4715L\n",
      "orf1ab:I5967V\n",
      "spike:G142D\n",
      "spike:G339D\n",
      "spike:S373P\n",
      "spike:S375F\n",
      "spike:K417N\n",
      "spike:N440K\n",
      "spike:S477N\n",
      "spike:T478K\n",
      "spike:E484A\n",
      "spike:Q493R\n",
      "spike:Q498R\n",
      "spike:N501Y\n",
      "spike:Y505H\n",
      "spike:D614G\n",
      "spike:H655Y\n",
      "spike:N679K\n",
      "spike:P681H\n",
      "spike:N764K\n",
      "spike:D796Y\n",
      "spike:Q954H\n",
      "spike:N969K\n",
      "mutate genome, easy\n",
      "mutate genome, easy\n",
      "mutation in gene, harder\n",
      "mutation in gene, harder\n",
      "mutation in gene, harder\n",
      "mutate genome, easy\n",
      "mutate genome, easy\n",
      "mutate genome, easy\n",
      "mutation in gene, harder\n",
      "delete bases from genome, fairly easy\n",
      "mutation in gene, harder\n"
     ]
    }
   ],
   "source": [
    "for i in a['sites']:\n",
    "    cols = i.split(':')\n",
    "    if cols[0] == 'nuc':\n",
    "        print('mutate genome, easy')\n",
    "    elif cols[0] == 'del':\n",
    "        print('delete bases from genome, fairly easy')\n",
    "    elif cols[0].upper() in constellation_genome['genes'].keys():\n",
    "        print('mutation in gene, harder')\n",
    "    else:\n",
    "        print(i)\n",
    "\n",
    "#     assert len(cols) == 2, i\n",
    "# mutation='spike:H655Y'\n"
   ]
  },
  {
   "cell_type": "code",
   "execution_count": 49,
   "id": "11f61264-034f-41cd-8b46-4b9982b44188",
   "metadata": {},
   "outputs": [],
   "source": [
    "with open('constellations/constellations/data/SARS-CoV-2.json') as f:\n",
    "    constellation_genome=json.load(f)"
   ]
  },
  {
   "cell_type": "code",
   "execution_count": 66,
   "id": "d1eb308e-1186-417a-9281-875a9df3f7d7",
   "metadata": {},
   "outputs": [
    {
     "data": {
      "text/plain": [
       "dict_keys(['ORF1a', 'ORF1b', 'S', 'ORF3a', 'E', 'M', 'ORF6', 'ORF7a', 'ORF8', 'N', 'ORF10'])"
      ]
     },
     "execution_count": 66,
     "metadata": {},
     "output_type": "execute_result"
    }
   ],
   "source": [
    "constellation_genome['genes'].keys()"
   ]
  },
  {
   "cell_type": "code",
   "execution_count": 61,
   "id": "f83fe140-b88e-46ef-b3d4-6267a83b7134",
   "metadata": {},
   "outputs": [
    {
     "data": {
      "text/plain": [
       "{'NSP1': {'name': 'NSP1',\n",
       "  'gene': '1ab',\n",
       "  'description': 'leader protein',\n",
       "  'coordinates': {'from': 1, 'to': 180}},\n",
       " 'NSP2': {'name': 'NSP2',\n",
       "  'gene': '1ab',\n",
       "  'coordinates': {'from': 181, 'to': 818}},\n",
       " 'NSP3': {'name': 'NSP3',\n",
       "  'gene': '1ab',\n",
       "  'coordinates': {'from': 819, 'to': 2763}},\n",
       " 'NSP4': {'name': 'NSP4',\n",
       "  'gene': '1ab',\n",
       "  'coordinates': {'from': 2764, 'to': 3263}},\n",
       " 'NSP5': {'name': 'NSP5',\n",
       "  'gene': '1ab',\n",
       "  'description': '3C-like proteinase',\n",
       "  'coordinates': {'from': 3264, 'to': 3569}},\n",
       " 'NSP6': {'name': 'NSP6',\n",
       "  'gene': '1ab',\n",
       "  'coordinates': {'from': 3570, 'to': 3859}},\n",
       " 'NSP7': {'name': 'NSP7',\n",
       "  'gene': '1ab',\n",
       "  'coordinates': {'from': 3860, 'to': 3942}},\n",
       " 'NSP8': {'name': 'NSP8',\n",
       "  'gene': '1ab',\n",
       "  'coordinates': {'from': 3943, 'to': 4140}},\n",
       " 'NSP9': {'name': 'NSP9',\n",
       "  'gene': '1ab',\n",
       "  'coordinates': {'from': 4141, 'to': 4253}},\n",
       " 'NSP10': {'name': 'NSP10',\n",
       "  'gene': '1ab',\n",
       "  'coordinates': {'from': 4254, 'to': 4392}},\n",
       " 'NSP11': {'name': 'NSP11',\n",
       "  'gene': '1ab',\n",
       "  'coordinates': {'from': 4392, 'to': 4392}},\n",
       " 'NSP12': {'name': 'NSP12',\n",
       "  'gene': '1ab',\n",
       "  'description': 'RdRp',\n",
       "  'coordinates': {'from': 4393, 'to': 5324}},\n",
       " 'NSP13': {'name': 'NSP13',\n",
       "  'gene': '1ab',\n",
       "  'description': 'helicase',\n",
       "  'coordinates': {'from': 5325, 'to': 5925}},\n",
       " 'NSP14': {'name': 'NSP14',\n",
       "  'gene': '1ab',\n",
       "  'description': 'exonuclease',\n",
       "  'coordinates': {'from': 5926, 'to': 6452}},\n",
       " 'NSP15': {'name': 'NSP15',\n",
       "  'gene': '1ab',\n",
       "  'description': 'endoRNAse',\n",
       "  'coordinates': {'from': 6453, 'to': 6798}},\n",
       " 'NSP16': {'name': 'NSP16',\n",
       "  'gene': '1ab',\n",
       "  'description': 'methyltransferase',\n",
       "  'coordinates': {'from': 6799, 'to': 7096}},\n",
       " 'S': {'name': 'spike',\n",
       "  'gene': 'S',\n",
       "  'description': 'surface glycoprotein',\n",
       "  'coordinates': {'from': 1, 'to': 1273}},\n",
       " 'ORF3a': {'name': 'ORF3a',\n",
       "  'gene': '3a',\n",
       "  'coordinates': {'from': 1, 'to': 275}},\n",
       " 'E': {'name': 'E',\n",
       "  'gene': 'E',\n",
       "  'description': 'envelope protein',\n",
       "  'coordinates': {'from': 1, 'to': 75}},\n",
       " 'M': {'name': 'M',\n",
       "  'gene': 'M',\n",
       "  'description': 'membrane glycoprotein',\n",
       "  'coordinates': {'from': 1, 'to': 222}},\n",
       " 'ORF6': {'name': 'ORF6',\n",
       "  'gene': '6',\n",
       "  'description': 'ORF6 protein',\n",
       "  'coordinates': {'from': 1, 'to': 61}},\n",
       " 'ORF7a': {'name': 'ORF7a',\n",
       "  'gene': '7a',\n",
       "  'description': 'ORF7a protein',\n",
       "  'coordinates': {'from': 1, 'to': 121}},\n",
       " 'ORF8': {'name': 'ORF8',\n",
       "  'gene': '8',\n",
       "  'description': 'ORF8 protein',\n",
       "  'coordinates': {'from': 1, 'to': 121}},\n",
       " 'N': {'name': 'N',\n",
       "  'gene': 'N',\n",
       "  'description': 'nucleocapsid protein',\n",
       "  'coordinates': {'from': 1, 'to': 419}},\n",
       " 'ORF10': {'name': 'ORF10',\n",
       "  'gene': '10',\n",
       "  'description': 'ORF10 protein',\n",
       "  'coordinates': {'from': 1, 'to': 38}}}"
      ]
     },
     "execution_count": 61,
     "metadata": {},
     "output_type": "execute_result"
    }
   ],
   "source": [
    "constellation_genome['proteins']"
   ]
  },
  {
   "cell_type": "code",
   "execution_count": 44,
   "id": "73d20556-4ab2-4961-bb26-efd11da17f4c",
   "metadata": {},
   "outputs": [],
   "source": [
    "import glob"
   ]
  },
  {
   "cell_type": "code",
   "execution_count": 46,
   "id": "4c4db55f-dba0-4f03-b38b-e5161e3ecb8a",
   "metadata": {},
   "outputs": [],
   "source": [
    "file_list=glob.glob('constellations/constellations/definitions/*json')"
   ]
  },
  {
   "cell_type": "code",
   "execution_count": 62,
   "id": "f0413f40-bdd5-473f-b829-fbac00d09359",
   "metadata": {},
   "outputs": [],
   "source": [
    "genes=set()\n",
    "\n",
    "for file in file_list:\n",
    "    with open(file) as INPUT:\n",
    "        a=json.load(INPUT)\n",
    "        for i in a['sites']:\n",
    "            foo=i.split(':')[0]\n",
    "            genes.add(foo)\n",
    "#         print(a['sites'])"
   ]
  },
  {
   "cell_type": "code",
   "execution_count": 48,
   "id": "a7d40cb2-705e-4d55-bd25-d9464383e618",
   "metadata": {},
   "outputs": [
    {
     "data": {
      "text/plain": [
       "{'1ab',\n",
       " '8',\n",
       " 'E',\n",
       " 'M',\n",
       " 'N',\n",
       " 'NSP2',\n",
       " 'ORF1a',\n",
       " 'ORF1ab',\n",
       " 'ORF1b',\n",
       " 'ORF3a',\n",
       " 'ORF7a',\n",
       " 'ORF8',\n",
       " 'S',\n",
       " 'del',\n",
       " 'e',\n",
       " 'm',\n",
       " 'n',\n",
       " 'nsp12',\n",
       " 'nsp13',\n",
       " 'nsp15',\n",
       " 'nsp3',\n",
       " 'nsp4',\n",
       " 'nsp5',\n",
       " 'nsp6',\n",
       " 'nsp7',\n",
       " 'nuc',\n",
       " 'orf1a',\n",
       " 'orf1ab',\n",
       " 'orf1b',\n",
       " 'orf3a',\n",
       " 'orf6',\n",
       " 's',\n",
       " 'spike'}"
      ]
     },
     "execution_count": 48,
     "metadata": {},
     "output_type": "execute_result"
    }
   ],
   "source": [
    "genes"
   ]
  },
  {
   "cell_type": "code",
   "execution_count": 63,
   "id": "b23ca3f8-d126-42b8-a1ff-cf61b3092211",
   "metadata": {},
   "outputs": [],
   "source": [
    "with open('constellations/constellations/definitions/cB.1.1.529.json') as INPUT:\n",
    "    a=json.load(INPUT)\n",
    "    for i in a['sites']:\n",
    "        foo=i.split(':')[0]\n",
    "        genes.add(foo)"
   ]
  },
  {
   "cell_type": "code",
   "execution_count": 64,
   "id": "77982ccd-f763-4d8b-8e55-cd2f9f503980",
   "metadata": {},
   "outputs": [
    {
     "data": {
      "text/plain": [
       "['nuc:C3037T',\n",
       " 'orf1ab:T3255I',\n",
       " 'orf1ab:P3395H',\n",
       " 'orf1ab:SGF3675-',\n",
       " 'nuc:T13195C',\n",
       " 'orf1ab:P4715L',\n",
       " 'orf1ab:I5967V',\n",
       " 'spike:G142D',\n",
       " 'spike:G339D',\n",
       " 'spike:S373P',\n",
       " 'spike:S375F',\n",
       " 'spike:K417N',\n",
       " 'spike:N440K',\n",
       " 'spike:S477N',\n",
       " 'spike:T478K',\n",
       " 'spike:E484A',\n",
       " 'spike:Q493R',\n",
       " 'spike:Q498R',\n",
       " 'spike:N501Y',\n",
       " 'spike:Y505H',\n",
       " 'spike:D614G',\n",
       " 'spike:H655Y',\n",
       " 'spike:N679K',\n",
       " 'spike:P681H',\n",
       " 'spike:N764K',\n",
       " 'spike:D796Y',\n",
       " 'spike:Q954H',\n",
       " 'spike:N969K',\n",
       " 'nuc:C25000T',\n",
       " 'nuc:C25584T',\n",
       " 'e:T9I',\n",
       " 'm:Q19E',\n",
       " 'm:A63T',\n",
       " 'nuc:A27259C',\n",
       " 'nuc:C27807T',\n",
       " 'nuc:A28271T',\n",
       " 'n:P13L',\n",
       " 'del:28362:9',\n",
       " 'n:RG203KR']"
      ]
     },
     "execution_count": 64,
     "metadata": {},
     "output_type": "execute_result"
    }
   ],
   "source": [
    "a['sites']"
   ]
  },
  {
   "cell_type": "code",
   "execution_count": 4,
   "id": "2349fc0c-dd3a-4f98-9100-a5f967d1ca9d",
   "metadata": {},
   "outputs": [],
   "source": [
    "gene='S'\n",
    "mutation= 'Q498R'"
   ]
  },
  {
   "cell_type": "code",
   "execution_count": 7,
   "id": "b3dd6128-b504-4bd7-bf59-bc25c9058fa0",
   "metadata": {},
   "outputs": [],
   "source": [
    "spike=covid_reference.build_gene('S')"
   ]
  },
  {
   "cell_type": "code",
   "execution_count": 8,
   "id": "675e2e77-f8e4-4695-8e6c-d02b04b13db4",
   "metadata": {},
   "outputs": [
    {
     "data": {
      "text/plain": [
       "array(['caa'], dtype='<U3')"
      ]
     },
     "execution_count": 8,
     "metadata": {},
     "output_type": "execute_result"
    }
   ],
   "source": [
    "spike.codons[spike.amino_acid_number==498]\n"
   ]
  },
  {
   "cell_type": "code",
   "execution_count": 9,
   "id": "4c75809a-d188-48ba-9355-60d7da6f5420",
   "metadata": {},
   "outputs": [
    {
     "data": {
      "text/plain": [
       "{'F': 'ttc',\n",
       " 'L': 'ctg',\n",
       " 'X': 'oox',\n",
       " 'Z': 'zzz',\n",
       " 'O': 'ooo',\n",
       " 'S': 'agc',\n",
       " 'Y': 'tac',\n",
       " '!': 'tga',\n",
       " 'C': 'tgc',\n",
       " 'W': 'tgg',\n",
       " 'P': 'ccg',\n",
       " 'H': 'cac',\n",
       " 'Q': 'cag',\n",
       " 'R': 'agg',\n",
       " 'I': 'ata',\n",
       " 'M': 'atg',\n",
       " 'T': 'acg',\n",
       " 'N': 'aac',\n",
       " 'K': 'aag',\n",
       " 'V': 'gtg',\n",
       " 'A': 'gcg',\n",
       " 'D': 'gac',\n",
       " 'E': 'gag',\n",
       " 'G': 'ggg'}"
      ]
     },
     "execution_count": 9,
     "metadata": {},
     "output_type": "execute_result"
    }
   ],
   "source": [
    "spike.codon_to_amino_acid\n",
    "\n",
    "amino_acid_to_codon={v: k for k, v in spike.codon_to_amino_acid.items()}\n",
    "amino_acid_to_codon"
   ]
  },
  {
   "cell_type": "code",
   "execution_count": 10,
   "id": "7a170847-8649-4d76-904c-749c3486f799",
   "metadata": {},
   "outputs": [],
   "source": [
    "from collections import defaultdict"
   ]
  },
  {
   "cell_type": "code",
   "execution_count": 11,
   "id": "3cccbdbd-99b2-4094-ae89-6a01b93ce68d",
   "metadata": {},
   "outputs": [],
   "source": [
    "amino_acid_to_codon=defaultdict(list)\n",
    "\n",
    "for codon in spike.codon_to_amino_acid:\n",
    "    \n",
    "    if 'x' not in codon and 'z' not in codon and 'o' not in codon:\n",
    "    \n",
    "        amino_acid=spike.codon_to_amino_acid[codon]\n",
    "\n",
    "        amino_acid_to_codon[amino_acid].append(codon)"
   ]
  },
  {
   "cell_type": "code",
   "execution_count": 23,
   "id": "c65569ed-c7ce-4777-a682-9b05c0ef35a2",
   "metadata": {},
   "outputs": [
    {
     "data": {
      "text/plain": [
       "defaultdict(list,\n",
       "            {'F': ['ttt', 'ttc'],\n",
       "             'L': ['tta', 'ttg', 'ctt', 'ctc', 'cta', 'ctg'],\n",
       "             'S': ['tct', 'tcc', 'tca', 'tcg', 'agt', 'agc'],\n",
       "             'Y': ['tat', 'tac'],\n",
       "             '!': ['taa', 'tag', 'tga'],\n",
       "             'C': ['tgt', 'tgc'],\n",
       "             'W': ['tgg'],\n",
       "             'P': ['cct', 'ccc', 'cca', 'ccg'],\n",
       "             'H': ['cat', 'cac'],\n",
       "             'Q': ['caa', 'cag'],\n",
       "             'R': ['cgt', 'cgc', 'cga', 'cgg', 'aga', 'agg'],\n",
       "             'I': ['att', 'atc', 'ata'],\n",
       "             'M': ['atg'],\n",
       "             'T': ['act', 'acc', 'aca', 'acg'],\n",
       "             'N': ['aat', 'aac'],\n",
       "             'K': ['aaa', 'aag'],\n",
       "             'V': ['gtt', 'gtc', 'gta', 'gtg'],\n",
       "             'A': ['gct', 'gcc', 'gca', 'gcg'],\n",
       "             'D': ['gat', 'gac'],\n",
       "             'E': ['gaa', 'gag'],\n",
       "             'G': ['ggt', 'ggc', 'gga', 'ggg']})"
      ]
     },
     "execution_count": 23,
     "metadata": {},
     "output_type": "execute_result"
    }
   ],
   "source": [
    "amino_acid_to_codon"
   ]
  },
  {
   "cell_type": "code",
   "execution_count": 24,
   "id": "82ea170d-b335-4870-99fc-9ed0b597753b",
   "metadata": {},
   "outputs": [
    {
     "data": {
      "text/plain": [
       "'caa'"
      ]
     },
     "execution_count": 24,
     "metadata": {},
     "output_type": "execute_result"
    }
   ],
   "source": [
    "current_base=spike.codons[spike.amino_acid_number==498][0]\n",
    "current_base"
   ]
  },
  {
   "cell_type": "code",
   "execution_count": 25,
   "id": "065ae04c-77fd-4c71-bc14-cd3442a1f70a",
   "metadata": {},
   "outputs": [
    {
     "data": {
      "text/plain": [
       "['cgt', 'cgc', 'cga', 'cgg', 'aga', 'agg']"
      ]
     },
     "execution_count": 25,
     "metadata": {},
     "output_type": "execute_result"
    }
   ],
   "source": [
    "amino_acid_to_codon['R']"
   ]
  },
  {
   "cell_type": "code",
   "execution_count": 18,
   "id": "04c441d2-0879-4730-9d93-427c028dc9dd",
   "metadata": {},
   "outputs": [],
   "source": [
    "max_bases=4\n",
    "\n",
    "for putative_codon in amino_acid_to_codon['R']:\n",
    "    \n",
    "    bases_to_change=sum([i!=j for i,j in zip(current_base,putative_codon)])\n",
    "       \n",
    "    if bases_to_change<max_bases:\n",
    "\n",
    "        new_codon = putative_codon\n",
    "        \n",
    "        max_bases=bases_to_change"
   ]
  },
  {
   "cell_type": "code",
   "execution_count": 19,
   "id": "33bb4f03-1c1f-4adf-9f03-9cb7a0d721c9",
   "metadata": {},
   "outputs": [
    {
     "data": {
      "text/plain": [
       "('cga', 1)"
      ]
     },
     "execution_count": 19,
     "metadata": {},
     "output_type": "execute_result"
    }
   ],
   "source": [
    "new_codon, max_bases"
   ]
  },
  {
   "cell_type": "code",
   "execution_count": 35,
   "id": "62aabc9a-f7ed-4a60-8a1d-caced897184f",
   "metadata": {},
   "outputs": [
    {
     "data": {
      "text/plain": [
       "array(['c', 'g', 'a'], dtype='<U1')"
      ]
     },
     "execution_count": 35,
     "metadata": {},
     "output_type": "execute_result"
    }
   ],
   "source": [
    "numpy.array([i for i in new_codon])"
   ]
  },
  {
   "cell_type": "code",
   "execution_count": 22,
   "id": "78d5c83b-5bb7-49f5-867a-e5548cb3bac0",
   "metadata": {},
   "outputs": [
    {
     "data": {
      "text/plain": [
       "array(['c', 'a', 'a'], dtype='<U1')"
      ]
     },
     "execution_count": 22,
     "metadata": {},
     "output_type": "execute_result"
    }
   ],
   "source": [
    "spike.nucleotide_sequence[spike.gene_position==498]"
   ]
  },
  {
   "cell_type": "code",
   "execution_count": 27,
   "id": "c683edda-17dd-4e33-a609-3b7363c10997",
   "metadata": {},
   "outputs": [],
   "source": [
    "idx=spike.nucleotide_index[spike.gene_position==498]"
   ]
  },
  {
   "cell_type": "code",
   "execution_count": 29,
   "id": "7dce2983-580d-45dd-9af8-2f6ac693952e",
   "metadata": {},
   "outputs": [],
   "source": [
    "import numpy"
   ]
  },
  {
   "cell_type": "code",
   "execution_count": 31,
   "id": "f0d703a4-9cbb-46d3-b70a-2a50e99f012b",
   "metadata": {},
   "outputs": [],
   "source": [
    "mask=numpy.isin(covid_reference.nucleotide_index,idx)"
   ]
  },
  {
   "cell_type": "code",
   "execution_count": 36,
   "id": "6cd63d0a-ab60-4756-b80a-a5f20c545473",
   "metadata": {},
   "outputs": [],
   "source": [
    "covid_reference.nucleotide_sequence[mask] = numpy.array([i for i in new_codon])"
   ]
  },
  {
   "cell_type": "code",
   "execution_count": 37,
   "id": "86432d0c-e81e-4c30-9f64-2cb6e35098c6",
   "metadata": {},
   "outputs": [
    {
     "data": {
      "text/plain": [
       "array(['c', 'g', 'a'], dtype='<U1')"
      ]
     },
     "execution_count": 37,
     "metadata": {},
     "output_type": "execute_result"
    }
   ],
   "source": [
    "covid_reference.nucleotide_sequence[mask]"
   ]
  },
  {
   "cell_type": "code",
   "execution_count": 38,
   "id": "c07ca3ad-291a-4504-a614-3a07bc4746c3",
   "metadata": {},
   "outputs": [],
   "source": [
    "orf1ab=covid_reference.build_gene('orf1ab')"
   ]
  },
  {
   "cell_type": "code",
   "execution_count": 39,
   "id": "8b47b830-51ff-4604-8b2c-26160810a8fd",
   "metadata": {},
   "outputs": [
    {
     "data": {
      "text/plain": [
       "orf1ab gene\n",
       "21390 nucleotides, codes for protein\n",
       "['a' 'g' 't' ... 'a' 'a' 'g']\n",
       "[-100  -99  -98 ...   -3   -2   -1]\n",
       "['M' 'E' 'S' ... 'N' 'N' '!']\n",
       "[   1    2    3 ... 7095 7096 7097]"
      ]
     },
     "execution_count": 39,
     "metadata": {},
     "output_type": "execute_result"
    }
   ],
   "source": [
    "orf1ab"
   ]
  },
  {
   "cell_type": "code",
   "execution_count": 42,
   "id": "9c08cfd6-f41f-4283-8f49-1f5002a14fbb",
   "metadata": {},
   "outputs": [
    {
     "data": {
      "text/plain": [
       "array(['T', 'P', 'S', 'P', 'I'], dtype='<U1')"
      ]
     },
     "execution_count": 42,
     "metadata": {},
     "output_type": "execute_result"
    }
   ],
   "source": [
    "\n",
    "orf1ab.amino_acid_sequence[numpy.isin(orf1ab.amino_acid_number,[3255,3395,3675,4715,5967])]"
   ]
  },
  {
   "cell_type": "code",
   "execution_count": 43,
   "id": "18d4e424-0529-4ca1-ae93-43e64403413b",
   "metadata": {},
   "outputs": [
    {
     "ename": "NameError",
     "evalue": "name 'reference' is not defined",
     "output_type": "error",
     "traceback": [
      "\u001b[0;31m---------------------------------------------------------------------------\u001b[0m",
      "\u001b[0;31mNameError\u001b[0m                                 Traceback (most recent call last)",
      "\u001b[0;32m/var/folders/np/2z_qny9911n2mqth2n63j9y80009px/T/ipykernel_1703/959100866.py\u001b[0m in \u001b[0;36m<module>\u001b[0;34m\u001b[0m\n\u001b[0;32m----> 1\u001b[0;31m \u001b[0mreference\u001b[0m\u001b[0;34m.\u001b[0m\u001b[0msave_fasta\u001b[0m\u001b[0;34m(\u001b[0m\u001b[0;34m'reference.fasta'\u001b[0m\u001b[0;34m)\u001b[0m\u001b[0;34m\u001b[0m\u001b[0;34m\u001b[0m\u001b[0m\n\u001b[0m",
      "\u001b[0;31mNameError\u001b[0m: name 'reference' is not defined"
     ]
    }
   ],
   "source": [
    ".save_fasta('reference.fasta')"
   ]
  },
  {
   "cell_type": "code",
   "execution_count": 46,
   "id": "eecd7d5a-69b0-4285-bf60-2608c3991de5",
   "metadata": {},
   "outputs": [
    {
     "data": {
      "text/plain": [
       "dict_keys(['orf1ab', 'S', 'ORF3a', 'E', 'M', 'ORF6', 'ORF7a', 'ORF8', 'N', 'ORF10'])"
      ]
     },
     "execution_count": 46,
     "metadata": {},
     "output_type": "execute_result"
    }
   ],
   "source": [
    "covid_reference.genes.keys()"
   ]
  },
  {
   "cell_type": "code",
   "execution_count": 47,
   "id": "9f0f7059-de14-4339-9812-e0cc511f070f",
   "metadata": {},
   "outputs": [
    {
     "data": {
      "text/plain": [
       "S gene\n",
       "3829 nucleotides, codes for protein\n",
       "['a' 'c' 'g' 'a' 'a' 'c' 'a']\n",
       "[-7 -6 -5 -4 -3 -2 -1]\n",
       "['M' 'F' 'V' ... 'Y' 'T' '!']\n",
       "[   1    2    3 ... 1272 1273 1274]"
      ]
     },
     "execution_count": 47,
     "metadata": {},
     "output_type": "execute_result"
    }
   ],
   "source": [
    "spike"
   ]
  },
  {
   "cell_type": "code",
   "execution_count": 48,
   "id": "096ec609-32ce-4954-8570-b933d784929b",
   "metadata": {},
   "outputs": [
    {
     "data": {
      "text/plain": [
       "array([  -7,   -6,   -5, ..., 1274, 1274, 1274])"
      ]
     },
     "execution_count": 48,
     "metadata": {},
     "output_type": "execute_result"
    }
   ],
   "source": [
    "spike.gene_position"
   ]
  },
  {
   "cell_type": "code",
   "execution_count": null,
   "id": "0e363f69-faa9-411d-b3c7-dd672af03e62",
   "metadata": {},
   "outputs": [],
   "source": [
    "covid_reference."
   ]
  }
 ],
 "metadata": {
  "kernelspec": {
   "display_name": "Python 3 (ipykernel)",
   "language": "python",
   "name": "python3"
  },
  "language_info": {
   "codemirror_mode": {
    "name": "ipython",
    "version": 3
   },
   "file_extension": ".py",
   "mimetype": "text/x-python",
   "name": "python",
   "nbconvert_exporter": "python",
   "pygments_lexer": "ipython3",
   "version": "3.9.9"
  }
 },
 "nbformat": 4,
 "nbformat_minor": 5
}
