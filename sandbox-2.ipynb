{
 "cells": [
  {
   "cell_type": "code",
   "execution_count": 158,
   "id": "901873d6-9b50-456c-9774-63809461d087",
   "metadata": {},
   "outputs": [],
   "source": [
    "import json, gumpy, numpy, copy, pandas\n",
    "\n",
    "from collections import defaultdict"
   ]
  },
  {
   "cell_type": "markdown",
   "id": "a5ac6401-f032-420d-836f-8a7c0c28fe51",
   "metadata": {},
   "source": [
    "load in the constellations definition of Omicron"
   ]
  },
  {
   "cell_type": "code",
   "execution_count": 203,
   "id": "988f76c5-e6b1-48e3-81b6-7d2e259eae3d",
   "metadata": {},
   "outputs": [
    {
     "data": {
      "text/html": [
       "<div>\n",
       "<style scoped>\n",
       "    .dataframe tbody tr th:only-of-type {\n",
       "        vertical-align: middle;\n",
       "    }\n",
       "\n",
       "    .dataframe tbody tr th {\n",
       "        vertical-align: top;\n",
       "    }\n",
       "\n",
       "    .dataframe thead th {\n",
       "        text-align: right;\n",
       "    }\n",
       "</style>\n",
       "<table border=\"1\" class=\"dataframe\">\n",
       "  <thead>\n",
       "    <tr style=\"text-align: right;\">\n",
       "      <th></th>\n",
       "      <th>pango_lineage</th>\n",
       "      <th>who_label</th>\n",
       "    </tr>\n",
       "  </thead>\n",
       "  <tbody>\n",
       "    <tr>\n",
       "      <th>0</th>\n",
       "      <td>cB.1.1.7</td>\n",
       "      <td>Alpha</td>\n",
       "    </tr>\n",
       "    <tr>\n",
       "      <th>1</th>\n",
       "      <td>cB.1.351</td>\n",
       "      <td>Beta</td>\n",
       "    </tr>\n",
       "    <tr>\n",
       "      <th>2</th>\n",
       "      <td>cP.1</td>\n",
       "      <td>Gamma</td>\n",
       "    </tr>\n",
       "    <tr>\n",
       "      <th>3</th>\n",
       "      <td>cB.1.617.2</td>\n",
       "      <td>Delta</td>\n",
       "    </tr>\n",
       "    <tr>\n",
       "      <th>4</th>\n",
       "      <td>cB.1.427</td>\n",
       "      <td>Epsilon</td>\n",
       "    </tr>\n",
       "    <tr>\n",
       "      <th>5</th>\n",
       "      <td>cB.1.429</td>\n",
       "      <td>Epsilon</td>\n",
       "    </tr>\n",
       "    <tr>\n",
       "      <th>6</th>\n",
       "      <td>cP.2</td>\n",
       "      <td>Zeta</td>\n",
       "    </tr>\n",
       "    <tr>\n",
       "      <th>7</th>\n",
       "      <td>cB.1.525</td>\n",
       "      <td>Eta</td>\n",
       "    </tr>\n",
       "    <tr>\n",
       "      <th>8</th>\n",
       "      <td>cP.3</td>\n",
       "      <td>Theta</td>\n",
       "    </tr>\n",
       "    <tr>\n",
       "      <th>9</th>\n",
       "      <td>cB.1.526</td>\n",
       "      <td>Iota</td>\n",
       "    </tr>\n",
       "    <tr>\n",
       "      <th>10</th>\n",
       "      <td>cB.1.617.1</td>\n",
       "      <td>Kappa</td>\n",
       "    </tr>\n",
       "    <tr>\n",
       "      <th>11</th>\n",
       "      <td>cC.37</td>\n",
       "      <td>Lambda</td>\n",
       "    </tr>\n",
       "    <tr>\n",
       "      <th>12</th>\n",
       "      <td>cB.1.621</td>\n",
       "      <td>Mu</td>\n",
       "    </tr>\n",
       "    <tr>\n",
       "      <th>13</th>\n",
       "      <td>cBA.1</td>\n",
       "      <td>Omicron</td>\n",
       "    </tr>\n",
       "    <tr>\n",
       "      <th>14</th>\n",
       "      <td>cBA.2</td>\n",
       "      <td>Omicron</td>\n",
       "    </tr>\n",
       "    <tr>\n",
       "      <th>15</th>\n",
       "      <td>cBA.3</td>\n",
       "      <td>Omicron</td>\n",
       "    </tr>\n",
       "    <tr>\n",
       "      <th>16</th>\n",
       "      <td>cB.1.1.529</td>\n",
       "      <td>Omicron</td>\n",
       "    </tr>\n",
       "  </tbody>\n",
       "</table>\n",
       "</div>"
      ],
      "text/plain": [
       "   pango_lineage who_label\n",
       "0       cB.1.1.7     Alpha\n",
       "1       cB.1.351      Beta\n",
       "2           cP.1     Gamma\n",
       "3     cB.1.617.2     Delta\n",
       "4       cB.1.427   Epsilon\n",
       "5       cB.1.429   Epsilon\n",
       "6           cP.2      Zeta\n",
       "7       cB.1.525       Eta\n",
       "8           cP.3     Theta\n",
       "9       cB.1.526      Iota\n",
       "10    cB.1.617.1     Kappa\n",
       "11         cC.37    Lambda\n",
       "12      cB.1.621        Mu\n",
       "13         cBA.1   Omicron\n",
       "14         cBA.2   Omicron\n",
       "15         cBA.3   Omicron\n",
       "16    cB.1.1.529   Omicron"
      ]
     },
     "execution_count": 203,
     "metadata": {},
     "output_type": "execute_result"
    }
   ],
   "source": [
    "pango_to_WHO_df= pandas.read_csv('gpas_covid_synthetic_reads/data/cov-lineages.csv')\n",
    "pango_to_WHO_df"
   ]
  },
  {
   "cell_type": "code",
   "execution_count": 204,
   "id": "426f9324-7232-4e9f-ab10-859b0bccb777",
   "metadata": {},
   "outputs": [],
   "source": [
    "pango_definitions={}\n",
    "for i in pango_to_WHO_df['pango_lineage']:\n",
    "    with open('constellations/constellations/definitions/'+i+'.json') as INPUT:\n",
    "        pango_definitions[i]=json.load(INPUT)"
   ]
  },
  {
   "cell_type": "code",
   "execution_count": 205,
   "id": "24d1ecd2-95f9-4f64-bdb4-f10aae73e53e",
   "metadata": {},
   "outputs": [
    {
     "data": {
      "text/plain": [
       "{'label': 'B.1.617.1-like',\n",
       " 'description': 'Defining constellation for lineage B.1.617.1',\n",
       " 'sources': ['https://github.com/cov-lineages/pango-designation/issues/38',\n",
       "  'https://www.telegraphindia.com/india/covid-double-mutation-variant-fuels-fears/cid/1809715'],\n",
       " 'type': 'variant',\n",
       " 'variant': {'Pango_lineages': ['B.1.617.1'],\n",
       "  'mrca_lineage': 'B.1.617.1',\n",
       "  'PHE_label': 'VUI-21APR-01',\n",
       "  'representative_genome': ''},\n",
       " 'tags': ['B.1.617.1', 'VUI-21APR-01'],\n",
       " 'sites': ['nuc:C3457T',\n",
       "  'nsp3:T749I',\n",
       "  'nsp6:T77A',\n",
       "  'nsp13:M429I',\n",
       "  'nsp15:K259R',\n",
       "  'S:L452R',\n",
       "  'S:E484Q',\n",
       "  'S:P681R',\n",
       "  'ORF3a:S26L',\n",
       "  'ORF7a:V82A',\n",
       "  'N:R203M'],\n",
       " 'rules': {'min_alt': 5, 'max_ref': 3}}"
      ]
     },
     "execution_count": 205,
     "metadata": {},
     "output_type": "execute_result"
    }
   ],
   "source": [
    "pango_definitions['cB.1.617.1']"
   ]
  },
  {
   "cell_type": "markdown",
   "id": "bb571d3a-c7be-4c00-a891-565e913fa714",
   "metadata": {},
   "source": [
    "load in the constellation definition of the Covid genome"
   ]
  },
  {
   "cell_type": "code",
   "execution_count": 165,
   "id": "183786dc-b6ec-4407-9fda-6625da489ba3",
   "metadata": {},
   "outputs": [],
   "source": [
    "with open('constellations/constellations/data/SARS-CoV-2.json') as f:\n",
    "    constellation_genome=json.load(f)\n",
    "# constellation_genome['genes'], constellation_genome['proteins']"
   ]
  },
  {
   "cell_type": "code",
   "execution_count": 26,
   "id": "0dbdda47-ecb2-44fa-a9e4-b405e0c84278",
   "metadata": {},
   "outputs": [
    {
     "data": {
      "text/plain": [
       "dict_values([{'name': 'ORF1a', 'coordinates': {'from': 266, 'to': 13468}}, {'name': 'ORF1b', 'coordinates': {'from': 13468, 'to': 21555}}, {'name': 'spike', 'coordinates': {'from': 21563, 'to': 25384}}, {'name': 'ORF3a', 'coordinates': {'from': 25393, 'to': 26220}}, {'name': 'E', 'coordinates': {'from': 26245, 'to': 26472}}, {'name': 'M', 'coordinates': {'from': 26523, 'to': 27191}}, {'name': 'ORF6', 'coordinates': {'from': 27202, 'to': 27387}}, {'name': 'ORF7a', 'coordinates': {'from': 27394, 'to': 27759}}, {'name': 'ORF8', 'coordinates': {'from': 27894, 'to': 28259}}, {'name': 'N', 'coordinates': {'from': 28274, 'to': 29533}}, {'name': 'ORF10', 'coordinates': {'from': 29558, 'to': 29674}}])"
      ]
     },
     "execution_count": 26,
     "metadata": {},
     "output_type": "execute_result"
    }
   ],
   "source": [
    "constellation_genome['genes'].values()"
   ]
  },
  {
   "cell_type": "code",
   "execution_count": 166,
   "id": "18dde989-f8dc-49a9-86ab-f212cd425074",
   "metadata": {},
   "outputs": [
    {
     "data": {
      "text/plain": [
       "{'ORF1a': 'ORF1a',\n",
       " 'ORF1b': 'ORF1b',\n",
       " 'spike': 'S',\n",
       " 'ORF3a': 'ORF3a',\n",
       " 'E': 'E',\n",
       " 'M': 'M',\n",
       " 'ORF6': 'ORF6',\n",
       " 'ORF7a': 'ORF7a',\n",
       " 'ORF8': 'ORF8',\n",
       " 'N': 'N',\n",
       " 'ORF10': 'ORF10'}"
      ]
     },
     "execution_count": 166,
     "metadata": {},
     "output_type": "execute_result"
    }
   ],
   "source": [
    "name_to_gene_lookup={}\n",
    "for i in constellation_genome['genes']:\n",
    "    name_to_gene_lookup[constellation_genome['genes'][i]['name']]=i\n",
    "name_to_gene_lookup"
   ]
  },
  {
   "cell_type": "markdown",
   "id": "4f39dbe4-37a9-463e-be07-ae952abc38a4",
   "metadata": {},
   "source": [
    "load in the Covid reference genome"
   ]
  },
  {
   "cell_type": "code",
   "execution_count": 61,
   "id": "8ae0f1ed-09ed-437c-8904-bd2dcdc76d69",
   "metadata": {},
   "outputs": [],
   "source": [
    "reference=gumpy.Genome('gpas_covid_synthetic_reads/data/NC_045512.2.gbk')"
   ]
  },
  {
   "cell_type": "code",
   "execution_count": 62,
   "id": "437bbb84-1b4d-4296-9678-901cfd273581",
   "metadata": {},
   "outputs": [
    {
     "data": {
      "text/plain": [
       "NC_045512\n",
       "NC_045512.2\n",
       "Severe acute respiratory syndrome coronavirus 2 isolate Wuhan-Hu-1, complete genome\n",
       "29903 bases\n",
       "attaaa...aaaaaa\n",
       "metadata for all genes/loci have been included"
      ]
     },
     "execution_count": 62,
     "metadata": {},
     "output_type": "execute_result"
    }
   ],
   "source": [
    "reference"
   ]
  },
  {
   "cell_type": "code",
   "execution_count": 63,
   "id": "24ea51ed-82c2-40f9-9456-1870d9f97c98",
   "metadata": {},
   "outputs": [],
   "source": [
    "spike = reference.build_gene('S')"
   ]
  },
  {
   "cell_type": "code",
   "execution_count": 64,
   "id": "29345c2e-31f2-4fe3-be22-83efdfcf7b06",
   "metadata": {},
   "outputs": [
    {
     "data": {
      "text/plain": [
       "defaultdict(list,\n",
       "            {'F': ['ttt', 'ttc'],\n",
       "             'L': ['tta', 'ttg', 'ctt', 'ctc', 'cta', 'ctg'],\n",
       "             'S': ['tct', 'tcc', 'tca', 'tcg', 'agt', 'agc'],\n",
       "             'Y': ['tat', 'tac'],\n",
       "             '!': ['taa', 'tag', 'tga'],\n",
       "             'C': ['tgt', 'tgc'],\n",
       "             'W': ['tgg'],\n",
       "             'P': ['cct', 'ccc', 'cca', 'ccg'],\n",
       "             'H': ['cat', 'cac'],\n",
       "             'Q': ['caa', 'cag'],\n",
       "             'R': ['cgt', 'cgc', 'cga', 'cgg', 'aga', 'agg'],\n",
       "             'I': ['att', 'atc', 'ata'],\n",
       "             'M': ['atg'],\n",
       "             'T': ['act', 'acc', 'aca', 'acg'],\n",
       "             'N': ['aat', 'aac'],\n",
       "             'K': ['aaa', 'aag'],\n",
       "             'V': ['gtt', 'gtc', 'gta', 'gtg'],\n",
       "             'A': ['gct', 'gcc', 'gca', 'gcg'],\n",
       "             'D': ['gat', 'gac'],\n",
       "             'E': ['gaa', 'gag'],\n",
       "             'G': ['ggt', 'ggc', 'gga', 'ggg']})"
      ]
     },
     "execution_count": 64,
     "metadata": {},
     "output_type": "execute_result"
    }
   ],
   "source": [
    "amino_acid_to_codon=defaultdict(list)\n",
    "\n",
    "for codon in spike.codon_to_amino_acid:\n",
    "    \n",
    "    if 'x' not in codon and 'z' not in codon and 'o' not in codon:\n",
    "    \n",
    "        amino_acid=spike.codon_to_amino_acid[codon]\n",
    "\n",
    "        amino_acid_to_codon[amino_acid].append(codon)\n",
    "        \n",
    "amino_acid_to_codon"
   ]
  },
  {
   "cell_type": "code",
   "execution_count": 67,
   "id": "f72f1bc8-e87e-4e62-93a0-dfd3b94aaca6",
   "metadata": {},
   "outputs": [],
   "source": [
    "def determine_closet_codon(current_codon, possible_codons):\n",
    "\n",
    "    max_bases=4\n",
    "\n",
    "    for putative_codon in possible_codons:\n",
    "\n",
    "        bases_to_change=sum([i!=j for i,j in zip(current_codon,putative_codon)])\n",
    "\n",
    "        if bases_to_change<max_bases:\n",
    "\n",
    "            new_codon = putative_codon\n",
    "\n",
    "            max_bases=bases_to_change\n",
    "\n",
    "    return(new_codon)"
   ]
  },
  {
   "cell_type": "code",
   "execution_count": 68,
   "id": "33ff0c44-efb8-43ec-9256-6f07e104ba30",
   "metadata": {},
   "outputs": [
    {
     "data": {
      "text/plain": [
       "'cga'"
      ]
     },
     "execution_count": 68,
     "metadata": {},
     "output_type": "execute_result"
    }
   ],
   "source": [
    "determine_closet_codon('caa',['cgt', 'cgc', 'cga', 'cgg', 'aga', 'agg'])"
   ]
  },
  {
   "cell_type": "code",
   "execution_count": 201,
   "id": "15b8f973-9083-4c9b-910e-d45b66a2e1c2",
   "metadata": {},
   "outputs": [],
   "source": [
    "constellation_to_gumpy_lookup = {'spike': 'S', \n",
    "                                 'S': 'S',\n",
    "                                 's' : 'S',\n",
    "                                 'm': 'M', \n",
    "                                 'M': 'M',\n",
    "                                 'e': 'E', \n",
    "                                 'E': 'E',\n",
    "                                 'n': 'N', \n",
    "                                 'N': 'N',\n",
    "                                 'orf1ab': 'ORF1ab',\n",
    "                                 '1ab': 'ORF1ab',\n",
    "                                 'ORF1ab' : 'ORF1ab',\n",
    "                                 'ORF3a': 'ORF3a',\n",
    "                                 'orf3a': 'ORF3a',\n",
    "                                 'ORF7a': 'ORF7a',\n",
    "                                 'ORF8': 'ORF8',\n",
    "                                 '8': 'ORF8'}"
   ]
  },
  {
   "cell_type": "code",
   "execution_count": 151,
   "id": "ca3672a3-e813-4f43-b5cf-4b1bdd722ed6",
   "metadata": {},
   "outputs": [],
   "source": [
    "reference = gumpy.Genome('gpas_covid_synthetic_reads/data/NC_045512.2.gbk')"
   ]
  },
  {
   "cell_type": "code",
   "execution_count": 115,
   "id": "8b5a354b-e0e1-4881-ad16-4130368c47b1",
   "metadata": {},
   "outputs": [],
   "source": [
    "reference.save_fasta('reference.fasta')"
   ]
  },
  {
   "cell_type": "code",
   "execution_count": 207,
   "id": "a89266f7-2a36-4e6d-8bde-310893917f26",
   "metadata": {},
   "outputs": [
    {
     "name": "stdout",
     "output_type": "stream",
     "text": [
      "cB.1.1.7**********************Alpha\n",
      "cB.1.351**********************Beta\n",
      "cB.1.351 NSP2:T85I\n",
      "cP.1**********************Gamma\n",
      "cB.1.617.2**********************Delta\n",
      "cB.1.427**********************Epsilon\n",
      "cB.1.427 orf1a:T265I\n",
      "cB.1.427 orf1b:D1183Y\n",
      "cB.1.429**********************Epsilon\n",
      "cB.1.429 orf1a:T265I\n",
      "cB.1.429 orf1a:I4205V\n",
      "cB.1.429 orf1b:D1183Y\n",
      "cP.2**********************Zeta\n",
      "cB.1.525**********************Eta\n",
      "cB.1.525 nsp12:P323F\n",
      "cP.3**********************Theta\n",
      "cP.3 nsp3:D736G\n",
      "cP.3 nsp4:L438P\n",
      "cP.3 nsp6:D112E\n",
      "cP.3 nsp7:L71F\n",
      "cP.3 nsp13:A368V\n",
      "cB.1.526**********************Iota\n",
      "cB.1.526 mutation in gene, but called after name, harder ['ORF1a', 'T265I']\n",
      "cB.1.526 mutation in gene, but called after name, harder ['ORF1a', 'L3201P']\n",
      "cB.1.526 mutation in gene, but called after name, harder ['ORF1b', 'P314L']\n",
      "cB.1.526 mutation in gene, but called after name, harder ['ORF1b', 'Q1011H']\n",
      "cB.1.617.1**********************Kappa\n",
      "cB.1.617.1 nsp3:T749I\n",
      "cB.1.617.1 nsp6:T77A\n",
      "cB.1.617.1 nsp13:M429I\n",
      "cB.1.617.1 nsp15:K259R\n",
      "cC.37**********************Lambda\n",
      "cC.37 mutation in gene, but called after name, harder ['ORF1a', 'T1246I']\n",
      "cC.37 mutation in gene, but called after name, harder ['ORF1a', 'P2287S']\n",
      "cC.37 mutation in gene, but called after name, harder ['ORF1a', 'F2387V']\n",
      "cC.37 mutation in gene, but called after name, harder ['ORF1a', 'L3201P']\n",
      "cC.37 mutation in gene, but called after name, harder ['ORF1a', 'T3255I']\n",
      "cC.37 mutation in gene, but called after name, harder ['ORF1a', 'G3278S']\n",
      "cC.37 mutation in gene, but called after name, harder ['ORF1a', 'SGF3675-']\n",
      "cC.37 mutation in gene, but called after name, harder ['ORF1b', 'P314L']\n",
      "cB.1.621**********************Mu\n",
      "cB.1.621 mutation in gene, but called after name, harder ['ORF1a', 'T1055A']\n",
      "cB.1.621 mutation in gene, but called after name, harder ['ORF1a', 'T1538I']\n",
      "cB.1.621 mutation in gene, but called after name, harder ['ORF1a', 'T3255I']\n",
      "cB.1.621 mutation in gene, but called after name, harder ['ORF1a', 'Q3729R']\n",
      "cB.1.621 mutation in gene, but called after name, harder ['ORF1b', 'P314L']\n",
      "cB.1.621 mutation in gene, but called after name, harder ['ORF1b', 'P1342S']\n",
      "cBA.1**********************Omicron\n",
      "cBA.2**********************Omicron\n",
      "cBA.2 orf6:D61L\n",
      "cBA.3**********************Omicron\n",
      "cB.1.1.529**********************Omicron\n"
     ]
    }
   ],
   "source": [
    "sample = {}\n",
    "\n",
    "for lineage in pango_to_WHO_df['pango_lineage']:\n",
    "\n",
    "    sample[lineage] = copy.deepcopy(reference)\n",
    "\n",
    "    who = a=pango_to_WHO_df[pango_to_WHO_df.pango_lineage==lineage].who_label.values[0]\n",
    "    \n",
    "    print(lineage+\"**********************\"+who)\n",
    "    for i in pango_definitions[lineage]['sites']:\n",
    "\n",
    "        cols = i.split(':')\n",
    "\n",
    "        if cols[0] == 'nuc':\n",
    "\n",
    "            # deal with nasty insertions\n",
    "            if '+' in cols[1]:\n",
    "\n",
    "                ref = cols[1][0]\n",
    "                pos = cols[1].find('+')    \n",
    "                idx = int(cols[1][1:pos])\n",
    "                alt = cols[1][pos+1:].lower()\n",
    "\n",
    "                mask = sample[lineage].nucleotide_index == idx\n",
    "\n",
    "                sample[lineage].is_indel[mask] = True\n",
    "                sample[lineage].indel_length[mask] = 1 * len(alt)\n",
    "                sample[lineage].indel_nucleotides[mask] = alt\n",
    "\n",
    "            else:\n",
    "\n",
    "                # split into the ref, alt bases and the genome index\n",
    "                ref = cols[1][0]\n",
    "                idx = int(cols[1][1:-1])\n",
    "                alt = cols[1][-1]\n",
    "\n",
    "                mask = sample[lineage].nucleotide_index == idx\n",
    "\n",
    "                # have to bypass since this appears twice in the BA.2 definition...\n",
    "                if i !='nuc:C15714T':\n",
    "                    # insist that the specified ref/before base matches what is the reference genome\n",
    "                    assert sample[lineage].nucleotide_sequence[mask][0] == ref.lower(), (sample[lineage].nucleotide_sequence[mask][0], cols)\n",
    "\n",
    "                # now mutate the base \n",
    "                sample[lineage].nucleotide_sequence[mask] = alt.lower()\n",
    "\n",
    "        elif cols[0] == 'del':\n",
    "\n",
    "            idx = int(cols[1])\n",
    "\n",
    "            number_bases_deleted = int(cols[2])\n",
    "\n",
    "            mask=sample[lineage].nucleotide_index == idx\n",
    "\n",
    "            sample[lineage].is_indel[mask] = True\n",
    "            sample[lineage].indel_nucleotides[mask] = -1 * number_bases_deleted\n",
    "\n",
    "        elif cols[0] in constellation_to_gumpy_lookup.keys() and constellation_to_gumpy_lookup[cols[0]] in sample[lineage].genes.keys():\n",
    "\n",
    "            # translate to what the gene is called in gumpy (and thence the GenBank file)\n",
    "            gene_name = constellation_to_gumpy_lookup[cols[0]]\n",
    "\n",
    "            assert sample[lineage].contains_gene(gene_name)\n",
    "\n",
    "            # build the Gene object\n",
    "            gene = sample[lineage].build_gene(gene_name)\n",
    "\n",
    "            number_of_amino_acids=sum([i.isalpha() for i in cols[1]])\n",
    "\n",
    "            if cols[1][-1]=='*':\n",
    "                number_of_amino_acids+=1\n",
    "\n",
    "            if cols[1][-1] == '-':\n",
    "\n",
    "                aa_num = int(cols[1][number_of_amino_acids:-1])\n",
    "\n",
    "                for i in range(number_of_amino_acids):\n",
    "\n",
    "                    ref = cols[1][i]\n",
    "\n",
    "                    mask = gene.amino_acid_number == aa_num + i\n",
    "\n",
    "                    assert gene.amino_acid_sequence[mask] == ref\n",
    "\n",
    "                # find out the genome nucleotide indices corresponding to this codon\n",
    "                idx=gene.nucleotide_index[gene.gene_position==aa_num]\n",
    "\n",
    "                # create a genome mask\n",
    "                mask=numpy.isin(sample[lineage].nucleotide_index,idx)\n",
    "\n",
    "                sample[lineage].is_indel[mask] = True\n",
    "                sample[lineage].indel_nucleotides[mask] = -1 * (3 * number_of_amino_acids)\n",
    "\n",
    "            else:            \n",
    "\n",
    "                # this must be an even number\n",
    "                assert number_of_amino_acids % 2 == 0, (cols, number_of_amino_acids)\n",
    "\n",
    "                # split into the ref, alt amino acids and the amino acid number\n",
    "                if number_of_amino_acids == 2:\n",
    "\n",
    "                    refs = [cols[1][0]]\n",
    "                    aa_nums = [int(cols[1][1:-1])]\n",
    "                    alts = [cols[1][-1]]\n",
    "                    if cols[1][-1] == '*':\n",
    "                        alts = ['!']               \n",
    "\n",
    "                elif number_of_amino_acids == 4:\n",
    "\n",
    "                    refs = [cols[1][0], cols[1][1]]\n",
    "                    aa_nums = [int(cols[1][2:-2]), int(cols[1][2:-2])+1]\n",
    "                    alts = [cols[1][-2], cols[1][-1]]                        \n",
    "\n",
    "                for ref,aa_num,alt in zip(refs,aa_nums,alts):\n",
    "\n",
    "                    # insist that the provided REF amino acid matches that in the genome\n",
    "                    mask = gene.amino_acid_number == aa_num\n",
    "\n",
    "                    assert gene.amino_acid_sequence[mask] == ref\n",
    "\n",
    "                    # find out the current codon\n",
    "                    current_codon = gene.codons[mask][0]\n",
    "\n",
    "                    # find out what codons would encode the ALT amino acid\n",
    "                    possible_codons = amino_acid_to_codon[alt]\n",
    "\n",
    "                    # work out which of these requires the fewest number of base changes\n",
    "                    new_codon = determine_closet_codon(current_codon, possible_codons)\n",
    "\n",
    "                    # find out the genome nucleotide indices corresponding to this codon\n",
    "                    idx=gene.nucleotide_index[gene.gene_position==aa_num]\n",
    "\n",
    "                    # create a genome mask\n",
    "                    mask=numpy.isin(sample[lineage].nucleotide_index,idx)\n",
    "\n",
    "                    # mutate the genome to the new codon which corresponds to the mutated amino acid\n",
    "                    sample[lineage].nucleotide_sequence[mask] = numpy.array([i for i in new_codon])\n",
    "\n",
    "    #     elif cols[0].upper() in constellation_genome['genes'].keys():\n",
    "    #         print('mutation in gene, harder')\n",
    "        elif cols[0] in name_to_gene_lookup.keys():\n",
    "            print(lineage,'mutation in gene, but called after name, harder', cols)\n",
    "        elif cols[0].upper()=='ORF1AB':\n",
    "            print(lineage,'mutation in ORF1ab', cols)\n",
    "        else:\n",
    "            print(lineage,i)\n",
    "\n",
    "    sample[lineage].save_fasta(lineage+\".fasta\")"
   ]
  },
  {
   "cell_type": "code",
   "execution_count": 208,
   "id": "06d6ca0d-7756-457a-a2a6-01a699a9cb8b",
   "metadata": {},
   "outputs": [
    {
     "data": {
      "text/plain": [
       "{'ORF1a': {'name': 'ORF1a', 'coordinates': {'from': 266, 'to': 13468}},\n",
       " 'ORF1b': {'name': 'ORF1b', 'coordinates': {'from': 13468, 'to': 21555}},\n",
       " 'S': {'name': 'spike', 'coordinates': {'from': 21563, 'to': 25384}},\n",
       " 'ORF3a': {'name': 'ORF3a', 'coordinates': {'from': 25393, 'to': 26220}},\n",
       " 'E': {'name': 'E', 'coordinates': {'from': 26245, 'to': 26472}},\n",
       " 'M': {'name': 'M', 'coordinates': {'from': 26523, 'to': 27191}},\n",
       " 'ORF6': {'name': 'ORF6', 'coordinates': {'from': 27202, 'to': 27387}},\n",
       " 'ORF7a': {'name': 'ORF7a', 'coordinates': {'from': 27394, 'to': 27759}},\n",
       " 'ORF8': {'name': 'ORF8', 'coordinates': {'from': 27894, 'to': 28259}},\n",
       " 'N': {'name': 'N', 'coordinates': {'from': 28274, 'to': 29533}},\n",
       " 'ORF10': {'name': 'ORF10', 'coordinates': {'from': 29558, 'to': 29674}}}"
      ]
     },
     "execution_count": 208,
     "metadata": {},
     "output_type": "execute_result"
    }
   ],
   "source": [
    "constellation_genome['genes']"
   ]
  },
  {
   "cell_type": "code",
   "execution_count": 209,
   "id": "929ecf75-7986-42cc-b7b5-c184c63da126",
   "metadata": {},
   "outputs": [
    {
     "data": {
      "text/plain": [
       "{'NSP1': {'name': 'NSP1',\n",
       "  'gene': '1ab',\n",
       "  'description': 'leader protein',\n",
       "  'coordinates': {'from': 1, 'to': 180}},\n",
       " 'NSP2': {'name': 'NSP2',\n",
       "  'gene': '1ab',\n",
       "  'coordinates': {'from': 181, 'to': 818}},\n",
       " 'NSP3': {'name': 'NSP3',\n",
       "  'gene': '1ab',\n",
       "  'coordinates': {'from': 819, 'to': 2763}},\n",
       " 'NSP4': {'name': 'NSP4',\n",
       "  'gene': '1ab',\n",
       "  'coordinates': {'from': 2764, 'to': 3263}},\n",
       " 'NSP5': {'name': 'NSP5',\n",
       "  'gene': '1ab',\n",
       "  'description': '3C-like proteinase',\n",
       "  'coordinates': {'from': 3264, 'to': 3569}},\n",
       " 'NSP6': {'name': 'NSP6',\n",
       "  'gene': '1ab',\n",
       "  'coordinates': {'from': 3570, 'to': 3859}},\n",
       " 'NSP7': {'name': 'NSP7',\n",
       "  'gene': '1ab',\n",
       "  'coordinates': {'from': 3860, 'to': 3942}},\n",
       " 'NSP8': {'name': 'NSP8',\n",
       "  'gene': '1ab',\n",
       "  'coordinates': {'from': 3943, 'to': 4140}},\n",
       " 'NSP9': {'name': 'NSP9',\n",
       "  'gene': '1ab',\n",
       "  'coordinates': {'from': 4141, 'to': 4253}},\n",
       " 'NSP10': {'name': 'NSP10',\n",
       "  'gene': '1ab',\n",
       "  'coordinates': {'from': 4254, 'to': 4392}},\n",
       " 'NSP11': {'name': 'NSP11',\n",
       "  'gene': '1ab',\n",
       "  'coordinates': {'from': 4392, 'to': 4392}},\n",
       " 'NSP12': {'name': 'NSP12',\n",
       "  'gene': '1ab',\n",
       "  'description': 'RdRp',\n",
       "  'coordinates': {'from': 4393, 'to': 5324}},\n",
       " 'NSP13': {'name': 'NSP13',\n",
       "  'gene': '1ab',\n",
       "  'description': 'helicase',\n",
       "  'coordinates': {'from': 5325, 'to': 5925}},\n",
       " 'NSP14': {'name': 'NSP14',\n",
       "  'gene': '1ab',\n",
       "  'description': 'exonuclease',\n",
       "  'coordinates': {'from': 5926, 'to': 6452}},\n",
       " 'NSP15': {'name': 'NSP15',\n",
       "  'gene': '1ab',\n",
       "  'description': 'endoRNAse',\n",
       "  'coordinates': {'from': 6453, 'to': 6798}},\n",
       " 'NSP16': {'name': 'NSP16',\n",
       "  'gene': '1ab',\n",
       "  'description': 'methyltransferase',\n",
       "  'coordinates': {'from': 6799, 'to': 7096}},\n",
       " 'S': {'name': 'spike',\n",
       "  'gene': 'S',\n",
       "  'description': 'surface glycoprotein',\n",
       "  'coordinates': {'from': 1, 'to': 1273}},\n",
       " 'ORF3a': {'name': 'ORF3a',\n",
       "  'gene': '3a',\n",
       "  'coordinates': {'from': 1, 'to': 275}},\n",
       " 'E': {'name': 'E',\n",
       "  'gene': 'E',\n",
       "  'description': 'envelope protein',\n",
       "  'coordinates': {'from': 1, 'to': 75}},\n",
       " 'M': {'name': 'M',\n",
       "  'gene': 'M',\n",
       "  'description': 'membrane glycoprotein',\n",
       "  'coordinates': {'from': 1, 'to': 222}},\n",
       " 'ORF6': {'name': 'ORF6',\n",
       "  'gene': '6',\n",
       "  'description': 'ORF6 protein',\n",
       "  'coordinates': {'from': 1, 'to': 61}},\n",
       " 'ORF7a': {'name': 'ORF7a',\n",
       "  'gene': '7a',\n",
       "  'description': 'ORF7a protein',\n",
       "  'coordinates': {'from': 1, 'to': 121}},\n",
       " 'ORF8': {'name': 'ORF8',\n",
       "  'gene': '8',\n",
       "  'description': 'ORF8 protein',\n",
       "  'coordinates': {'from': 1, 'to': 121}},\n",
       " 'N': {'name': 'N',\n",
       "  'gene': 'N',\n",
       "  'description': 'nucleocapsid protein',\n",
       "  'coordinates': {'from': 1, 'to': 419}},\n",
       " 'ORF10': {'name': 'ORF10',\n",
       "  'gene': '10',\n",
       "  'description': 'ORF10 protein',\n",
       "  'coordinates': {'from': 1, 'to': 38}}}"
      ]
     },
     "execution_count": 209,
     "metadata": {},
     "output_type": "execute_result"
    }
   ],
   "source": [
    "constellation_genome['proteins']"
   ]
  },
  {
   "cell_type": "code",
   "execution_count": null,
   "id": "c71e80c0-1112-4368-9ee5-88ba1d16b857",
   "metadata": {},
   "outputs": [],
   "source": []
  }
 ],
 "metadata": {
  "kernelspec": {
   "display_name": "Python 3 (ipykernel)",
   "language": "python",
   "name": "python3"
  },
  "language_info": {
   "codemirror_mode": {
    "name": "ipython",
    "version": 3
   },
   "file_extension": ".py",
   "mimetype": "text/x-python",
   "name": "python",
   "nbconvert_exporter": "python",
   "pygments_lexer": "ipython3",
   "version": "3.9.9"
  }
 },
 "nbformat": 4,
 "nbformat_minor": 5
}
