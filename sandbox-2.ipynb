{
 "cells": [
  {
   "cell_type": "code",
   "execution_count": 92,
   "id": "901873d6-9b50-456c-9774-63809461d087",
   "metadata": {},
   "outputs": [
    {
     "name": "stdout",
     "output_type": "stream",
     "text": [
      "The autoreload extension is already loaded. To reload it, use:\n",
      "  %reload_ext autoreload\n"
     ]
    }
   ],
   "source": [
    "import json, gumpy, numpy, copy, pandas\n",
    "\n",
    "import gpas_covid_synthetic_reads as gcsr\n",
    "\n",
    "from collections import defaultdict\n",
    "from tqdm import tqdm\n",
    "\n",
    "%load_ext autoreload\n",
    "%autoreload 2"
   ]
  },
  {
   "cell_type": "markdown",
   "id": "a5ac6401-f032-420d-836f-8a7c0c28fe51",
   "metadata": {},
   "source": [
    "load in the constellations definition of Omicron"
   ]
  },
  {
   "cell_type": "code",
   "execution_count": 64,
   "id": "988f76c5-e6b1-48e3-81b6-7d2e259eae3d",
   "metadata": {},
   "outputs": [
    {
     "data": {
      "text/html": [
       "<div>\n",
       "<style scoped>\n",
       "    .dataframe tbody tr th:only-of-type {\n",
       "        vertical-align: middle;\n",
       "    }\n",
       "\n",
       "    .dataframe tbody tr th {\n",
       "        vertical-align: top;\n",
       "    }\n",
       "\n",
       "    .dataframe thead th {\n",
       "        text-align: right;\n",
       "    }\n",
       "</style>\n",
       "<table border=\"1\" class=\"dataframe\">\n",
       "  <thead>\n",
       "    <tr style=\"text-align: right;\">\n",
       "      <th></th>\n",
       "      <th>pango_lineage</th>\n",
       "      <th>who_label</th>\n",
       "    </tr>\n",
       "  </thead>\n",
       "  <tbody>\n",
       "    <tr>\n",
       "      <th>0</th>\n",
       "      <td>cB.1.1.7</td>\n",
       "      <td>Alpha</td>\n",
       "    </tr>\n",
       "    <tr>\n",
       "      <th>1</th>\n",
       "      <td>cB.1.351</td>\n",
       "      <td>Beta</td>\n",
       "    </tr>\n",
       "    <tr>\n",
       "      <th>2</th>\n",
       "      <td>cP.1</td>\n",
       "      <td>Gamma</td>\n",
       "    </tr>\n",
       "  </tbody>\n",
       "</table>\n",
       "</div>"
      ],
      "text/plain": [
       "  pango_lineage who_label\n",
       "0      cB.1.1.7     Alpha\n",
       "1      cB.1.351      Beta\n",
       "2          cP.1     Gamma"
      ]
     },
     "execution_count": 64,
     "metadata": {},
     "output_type": "execute_result"
    }
   ],
   "source": [
    "lineages_reference=gcsr.load_lineages_dataframe()\n",
    "lineages_reference[:3]"
   ]
  },
  {
   "cell_type": "code",
   "execution_count": 65,
   "id": "426f9324-7232-4e9f-ab10-859b0bccb777",
   "metadata": {},
   "outputs": [
    {
     "data": {
      "text/plain": [
       "{'label': 'Alpha (B.1.1.7-like)',\n",
       " 'description': 'B.1.1.7 lineage defining mutations',\n",
       " 'sources': ['https://virological.org/t/563'],\n",
       " 'type': 'variant',\n",
       " 'variant': {'Pango_lineages': ['B.1.1.7'],\n",
       "  'mrca_lineage': 'B.1.1.7',\n",
       "  'PHE_label': 'VOC-20DEC-01',\n",
       "  'WHO_label': 'Alpha',\n",
       "  'representative_genome': ''},\n",
       " 'tags': ['B.1.1.7', 'VOC 202012/01'],\n",
       " 'sites': ['nuc:C913T',\n",
       "  '1ab:T1001I',\n",
       "  '1ab:A1708D',\n",
       "  'nuc:C5986T',\n",
       "  '1ab:I2230T',\n",
       "  '1ab:SGF3675-',\n",
       "  'nuc:C14676T',\n",
       "  'nuc:C15279T',\n",
       "  'nuc:T16176C',\n",
       "  's:HV69-',\n",
       "  's:Y144-',\n",
       "  's:N501Y',\n",
       "  's:A570D',\n",
       "  's:P681H',\n",
       "  's:T716I',\n",
       "  's:S982A',\n",
       "  's:D1118H',\n",
       "  'nuc:C26801T',\n",
       "  '8:Q27*',\n",
       "  '8:R52I',\n",
       "  '8:Y73C',\n",
       "  'N:D3L',\n",
       "  'N:S235F'],\n",
       " 'rules': {'min_alt': 15, 'max_ref': 3}}"
      ]
     },
     "execution_count": 65,
     "metadata": {},
     "output_type": "execute_result"
    }
   ],
   "source": [
    "pango_definitions=gcsr.load_pango_definitions('../constellations/', lineages_reference)\n",
    "pango_definitions['cB.1.1.7']"
   ]
  },
  {
   "cell_type": "markdown",
   "id": "bb571d3a-c7be-4c00-a891-565e913fa714",
   "metadata": {},
   "source": [
    "load in the constellation definition of the Covid genome"
   ]
  },
  {
   "cell_type": "code",
   "execution_count": 95,
   "id": "183786dc-b6ec-4407-9fda-6625da489ba3",
   "metadata": {},
   "outputs": [
    {
     "data": {
      "text/plain": [
       "(dict_values([{'name': 'ORF1a', 'coordinates': {'from': 266, 'to': 13468}}, {'name': 'ORF1b', 'coordinates': {'from': 13468, 'to': 21555}}, {'name': 'spike', 'coordinates': {'from': 21563, 'to': 25384}}, {'name': 'ORF3a', 'coordinates': {'from': 25393, 'to': 26220}}, {'name': 'E', 'coordinates': {'from': 26245, 'to': 26472}}, {'name': 'M', 'coordinates': {'from': 26523, 'to': 27191}}, {'name': 'ORF6', 'coordinates': {'from': 27202, 'to': 27387}}, {'name': 'ORF7a', 'coordinates': {'from': 27394, 'to': 27759}}, {'name': 'ORF8', 'coordinates': {'from': 27894, 'to': 28259}}, {'name': 'N', 'coordinates': {'from': 28274, 'to': 29533}}, {'name': 'ORF10', 'coordinates': {'from': 29558, 'to': 29674}}]),\n",
       " dict_values([{'name': 'NSP1', 'gene': '1ab', 'description': 'leader protein', 'coordinates': {'from': 1, 'to': 180}}, {'name': 'NSP2', 'gene': '1ab', 'coordinates': {'from': 181, 'to': 818}}, {'name': 'NSP3', 'gene': '1ab', 'coordinates': {'from': 819, 'to': 2763}}, {'name': 'NSP4', 'gene': '1ab', 'coordinates': {'from': 2764, 'to': 3263}}, {'name': 'NSP5', 'gene': '1ab', 'description': '3C-like proteinase', 'coordinates': {'from': 3264, 'to': 3569}}, {'name': 'NSP6', 'gene': '1ab', 'coordinates': {'from': 3570, 'to': 3859}}, {'name': 'NSP7', 'gene': '1ab', 'coordinates': {'from': 3860, 'to': 3942}}, {'name': 'NSP8', 'gene': '1ab', 'coordinates': {'from': 3943, 'to': 4140}}, {'name': 'NSP9', 'gene': '1ab', 'coordinates': {'from': 4141, 'to': 4253}}, {'name': 'NSP10', 'gene': '1ab', 'coordinates': {'from': 4254, 'to': 4392}}, {'name': 'NSP11', 'gene': '1ab', 'coordinates': {'from': 4392, 'to': 4392}}, {'name': 'NSP12', 'gene': '1ab', 'description': 'RdRp', 'coordinates': {'from': 4393, 'to': 5324}}, {'name': 'NSP13', 'gene': '1ab', 'description': 'helicase', 'coordinates': {'from': 5325, 'to': 5925}}, {'name': 'NSP14', 'gene': '1ab', 'description': 'exonuclease', 'coordinates': {'from': 5926, 'to': 6452}}, {'name': 'NSP15', 'gene': '1ab', 'description': 'endoRNAse', 'coordinates': {'from': 6453, 'to': 6798}}, {'name': 'NSP16', 'gene': '1ab', 'description': 'methyltransferase', 'coordinates': {'from': 6799, 'to': 7096}}, {'name': 'spike', 'gene': 'S', 'description': 'surface glycoprotein', 'coordinates': {'from': 1, 'to': 1273}}, {'name': 'ORF3a', 'gene': '3a', 'coordinates': {'from': 1, 'to': 275}}, {'name': 'E', 'gene': 'E', 'description': 'envelope protein', 'coordinates': {'from': 1, 'to': 75}}, {'name': 'M', 'gene': 'M', 'description': 'membrane glycoprotein', 'coordinates': {'from': 1, 'to': 222}}, {'name': 'ORF6', 'gene': '6', 'description': 'ORF6 protein', 'coordinates': {'from': 1, 'to': 61}}, {'name': 'ORF7a', 'gene': '7a', 'description': 'ORF7a protein', 'coordinates': {'from': 1, 'to': 121}}, {'name': 'ORF8', 'gene': '8', 'description': 'ORF8 protein', 'coordinates': {'from': 1, 'to': 121}}, {'name': 'N', 'gene': 'N', 'description': 'nucleocapsid protein', 'coordinates': {'from': 1, 'to': 419}}, {'name': 'ORF10', 'gene': '10', 'description': 'ORF10 protein', 'coordinates': {'from': 1, 'to': 38}}]))"
      ]
     },
     "execution_count": 95,
     "metadata": {},
     "output_type": "execute_result"
    }
   ],
   "source": [
    "with open('../constellations/constellations/data/SARS-CoV-2.json') as f:\n",
    "    constellation_genome=json.load(f)\n",
    "constellation_genome['genes'].values(), constellation_genome['proteins'].values()"
   ]
  },
  {
   "cell_type": "code",
   "execution_count": 68,
   "id": "18dde989-f8dc-49a9-86ab-f212cd425074",
   "metadata": {},
   "outputs": [
    {
     "data": {
      "text/plain": [
       "{'ORF1a': 'ORF1a',\n",
       " 'ORF1b': 'ORF1b',\n",
       " 'spike': 'S',\n",
       " 'ORF3a': 'ORF3a',\n",
       " 'E': 'E',\n",
       " 'M': 'M',\n",
       " 'ORF6': 'ORF6',\n",
       " 'ORF7a': 'ORF7a',\n",
       " 'ORF8': 'ORF8',\n",
       " 'N': 'N',\n",
       " 'ORF10': 'ORF10'}"
      ]
     },
     "execution_count": 68,
     "metadata": {},
     "output_type": "execute_result"
    }
   ],
   "source": [
    "name_to_gene_lookup={}\n",
    "for i in constellation_genome['genes']:\n",
    "    name_to_gene_lookup[constellation_genome['genes'][i]['name']]=i\n",
    "name_to_gene_lookup"
   ]
  },
  {
   "cell_type": "markdown",
   "id": "4f39dbe4-37a9-463e-be07-ae952abc38a4",
   "metadata": {},
   "source": [
    "load in the Covid reference genome"
   ]
  },
  {
   "cell_type": "code",
   "execution_count": 69,
   "id": "8ae0f1ed-09ed-437c-8904-bd2dcdc76d69",
   "metadata": {},
   "outputs": [
    {
     "data": {
      "text/plain": [
       "NC_045512\n",
       "NC_045512.2\n",
       "Severe acute respiratory syndrome coronavirus 2 isolate Wuhan-Hu-1, complete genome\n",
       "29903 bases\n",
       "attaaa...aaaaaa\n",
       "metadata for all genes/loci have been included"
      ]
     },
     "execution_count": 69,
     "metadata": {},
     "output_type": "execute_result"
    }
   ],
   "source": [
    "reference=gumpy.Genome('gpas_covid_synthetic_reads/data/NC_045512.2.gbk')\n",
    "reference"
   ]
  },
  {
   "cell_type": "code",
   "execution_count": 73,
   "id": "a3fa81e8-80f7-4f21-9f9e-2361415cb9ed",
   "metadata": {},
   "outputs": [],
   "source": [
    "amino_acid_to_codon=gcsr.create_amino_acid_to_codon(reference)"
   ]
  },
  {
   "cell_type": "code",
   "execution_count": 75,
   "id": "32e841bc-ff84-4b54-8ee9-57c9c01c828c",
   "metadata": {},
   "outputs": [
    {
     "data": {
      "text/plain": [
       "['tat', 'tac']"
      ]
     },
     "execution_count": 75,
     "metadata": {},
     "output_type": "execute_result"
    }
   ],
   "source": [
    "amino_acid_to_codon['Y']"
   ]
  },
  {
   "cell_type": "code",
   "execution_count": 76,
   "id": "69e0d194-2ce0-4897-ab86-0e71589d39c2",
   "metadata": {},
   "outputs": [
    {
     "data": {
      "text/plain": [
       "'tat'"
      ]
     },
     "execution_count": 76,
     "metadata": {},
     "output_type": "execute_result"
    }
   ],
   "source": [
    "determine_closet_codon('taa', amino_acid_to_codon['Y'])"
   ]
  },
  {
   "cell_type": "code",
   "execution_count": 25,
   "id": "35da2998-3724-44cb-9c82-3ce69199da83",
   "metadata": {},
   "outputs": [
    {
     "data": {
      "text/plain": [
       "dict_keys(['ORF1ab', 'ORF1ab_2', 'S', 'ORF3a', 'E', 'M', 'ORF6', 'ORF7a', 'ORF7b', 'ORF8', 'N', 'ORF10'])"
      ]
     },
     "execution_count": 25,
     "metadata": {},
     "output_type": "execute_result"
    }
   ],
   "source": [
    "reference.genes.keys()"
   ]
  },
  {
   "cell_type": "code",
   "execution_count": 17,
   "id": "8b5a354b-e0e1-4881-ad16-4130368c47b1",
   "metadata": {},
   "outputs": [],
   "source": [
    "reference.save_fasta('reference.fasta')"
   ]
  },
  {
   "cell_type": "code",
   "execution_count": 99,
   "id": "ab099f03-f0a1-4848-8bcc-130141e4f123",
   "metadata": {},
   "outputs": [
    {
     "name": "stderr",
     "output_type": "stream",
     "text": [
      "  0%|                                                                                                                                  | 0/17 [00:00<?, ?it/s]"
     ]
    },
    {
     "name": "stdout",
     "output_type": "stream",
     "text": [
      "cB.1.1.7\n"
     ]
    },
    {
     "name": "stderr",
     "output_type": "stream",
     "text": [
      " 12%|██████████████▎                                                                                                           | 2/17 [00:02<00:21,  1.43s/it]"
     ]
    },
    {
     "name": "stdout",
     "output_type": "stream",
     "text": [
      "cP.1\n"
     ]
    },
    {
     "name": "stderr",
     "output_type": "stream",
     "text": [
      " 18%|█████████████████████▌                                                                                                    | 3/17 [00:04<00:19,  1.36s/it]"
     ]
    },
    {
     "name": "stdout",
     "output_type": "stream",
     "text": [
      "cB.1.617.2\n"
     ]
    },
    {
     "name": "stderr",
     "output_type": "stream",
     "text": [
      " 35%|███████████████████████████████████████████                                                                               | 6/17 [00:07<00:12,  1.17s/it]"
     ]
    },
    {
     "name": "stdout",
     "output_type": "stream",
     "text": [
      "cP.2\n"
     ]
    },
    {
     "name": "stderr",
     "output_type": "stream",
     "text": [
      " 76%|████████████████████████████████████████████████████████████████████████████████████████████▌                            | 13/17 [00:17<00:05,  1.46s/it]"
     ]
    },
    {
     "name": "stdout",
     "output_type": "stream",
     "text": [
      "cBA.1\n"
     ]
    },
    {
     "name": "stderr",
     "output_type": "stream",
     "text": [
      " 82%|███████████████████████████████████████████████████████████████████████████████████████████████████▋                     | 14/17 [00:19<00:04,  1.58s/it]"
     ]
    },
    {
     "name": "stdout",
     "output_type": "stream",
     "text": [
      "cBA.2\n"
     ]
    },
    {
     "name": "stderr",
     "output_type": "stream",
     "text": [
      " 88%|██████████████████████████████████████████████████████████████████████████████████████████████████████████▊              | 15/17 [00:22<00:03,  2.00s/it]"
     ]
    },
    {
     "name": "stdout",
     "output_type": "stream",
     "text": [
      "cBA.3\n"
     ]
    },
    {
     "name": "stderr",
     "output_type": "stream",
     "text": [
      " 94%|█████████████████████████████████████████████████████████████████████████████████████████████████████████████████▉       | 16/17 [00:24<00:01,  1.89s/it]"
     ]
    },
    {
     "name": "stdout",
     "output_type": "stream",
     "text": [
      "cB.1.1.529\n"
     ]
    },
    {
     "name": "stderr",
     "output_type": "stream",
     "text": [
      "100%|█████████████████████████████████████████████████████████████████████████████████████████████████████████████████████████| 17/17 [00:26<00:00,  1.54s/it]\n"
     ]
    }
   ],
   "source": [
    "sample = {}\n",
    "\n",
    "for lineage in tqdm(lineages_reference['pango_lineage']):\n",
    "\n",
    "    sample[lineage] = copy.deepcopy(reference)\n",
    "    \n",
    "    pg = gcsr.PangoGenome(sample[lineage],pango_definitions[lineage], lineage)"
   ]
  },
  {
   "cell_type": "code",
   "execution_count": 96,
   "id": "247298bd-efbe-4288-9dfd-01623e30de5a",
   "metadata": {},
   "outputs": [
    {
     "data": {
      "text/plain": [
       "dict_keys(['ORF1ab', 'ORF1ab_2', 'S', 'ORF3a', 'E', 'M', 'ORF6', 'ORF7a', 'ORF7b', 'ORF8', 'N', 'ORF10'])"
      ]
     },
     "execution_count": 96,
     "metadata": {},
     "output_type": "execute_result"
    }
   ],
   "source": [
    "sample['cBA.2'].genes.keys()"
   ]
  },
  {
   "cell_type": "code",
   "execution_count": 102,
   "id": "c71e80c0-1112-4368-9ee5-88ba1d16b857",
   "metadata": {},
   "outputs": [
    {
     "data": {
      "text/plain": [
       "{'label': 'Omicron (BA.3-like)',\n",
       " 'description': 'BA.3 lineage defining mutations',\n",
       " 'sources': [],\n",
       " 'type': 'variant',\n",
       " 'variant': {'Pango_lineages': ['BA.3'],\n",
       "  'WHO_label': 'Omicron',\n",
       "  'mrca_lineage': 'BA.3',\n",
       "  'lineage_name': 'BA.3',\n",
       "  'parent_lineage': 'B.1.1.529',\n",
       "  'representative_genome': ''},\n",
       " 'tags': ['BA.3'],\n",
       " 'sites': ['orf1ab:S135R',\n",
       "  'nuc:C832T',\n",
       "  'orf1ab:G1307S',\n",
       "  'orf1ab:T3090I',\n",
       "  'nuc:G10447A',\n",
       "  'nuc:C11235T',\n",
       "  'nuc:C12880T',\n",
       "  'nuc:C15714T',\n",
       "  'orf1ab:I5967V',\n",
       "  'spike:A67V',\n",
       "  'del:21765:6',\n",
       "  'del:21987:9',\n",
       "  'del:22194:3',\n",
       "  'spike:S371F',\n",
       "  'spike:D405N',\n",
       "  'spike:G446S',\n",
       "  'orf3a:T223V',\n",
       "  'nuc:C26858T',\n",
       "  'n:S413R'],\n",
       " 'note': 'Unique mutations for sublineage',\n",
       " 'rules': {'min_alt': 11,\n",
       "  'max_ref': 3,\n",
       "  'nuc:C832T': 'not ref',\n",
       "  'nuc:C11235T': 'not ref',\n",
       "  'orf1ab:I5967V': 'not ref'}}"
      ]
     },
     "execution_count": 102,
     "metadata": {},
     "output_type": "execute_result"
    }
   ],
   "source": [
    "pango_definitions['cBA.3']"
   ]
  },
  {
   "cell_type": "code",
   "execution_count": null,
   "id": "50768e21-7783-40b3-8134-765cb2db53a7",
   "metadata": {},
   "outputs": [],
   "source": []
  }
 ],
 "metadata": {
  "kernelspec": {
   "display_name": "Python 3 (ipykernel)",
   "language": "python",
   "name": "python3"
  },
  "language_info": {
   "codemirror_mode": {
    "name": "ipython",
    "version": 3
   },
   "file_extension": ".py",
   "mimetype": "text/x-python",
   "name": "python",
   "nbconvert_exporter": "python",
   "pygments_lexer": "ipython3",
   "version": "3.9.9"
  }
 },
 "nbformat": 4,
 "nbformat_minor": 5
}
