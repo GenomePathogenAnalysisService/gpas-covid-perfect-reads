{
 "cells": [
  {
   "cell_type": "code",
   "execution_count": 32,
   "metadata": {},
   "outputs": [],
   "source": [
    "import gumpy, copy, pandas"
   ]
  },
  {
   "cell_type": "code",
   "execution_count": 2,
   "metadata": {},
   "outputs": [],
   "source": [
    "reference = gumpy.Genome('./gpas_testing/data/NC_000962.3.gbk.gz')"
   ]
  },
  {
   "cell_type": "markdown",
   "metadata": {},
   "source": [
    "## Sample 1, MDR\n",
    "\n",
    "isoniazid and rifampicin resistant\n",
    "\n",
    "```\n",
    "761155 c t\n",
    "2155169 a t\n",
    "```"
   ]
  },
  {
   "cell_type": "code",
   "execution_count": 23,
   "metadata": {},
   "outputs": [
    {
     "data": {
      "text/plain": [
       "(False,\n",
       " array(['S'], dtype='<U1'),\n",
       " array([761154, 761155, 761156]),\n",
       " array(['t', 'c', 'g'], dtype='<U1'))"
      ]
     },
     "execution_count": 23,
     "metadata": {},
     "output_type": "execute_result"
    }
   ],
   "source": [
    "gene_name = 'rpoB'\n",
    "amino_acid_number = 450\n",
    "\n",
    "gene = reference.build_gene(gene_name)\n",
    "gene.codons[gene.amino_acid_number==amino_acid_number]\n",
    "mask1 = gene.amino_acid_number==amino_acid_number\n",
    "mask2 = gene.gene_position==amino_acid_number\n",
    "gene.reverse_complement, gene.amino_acid_sequence[mask1], gene.nucleotide_index[mask2], gene.nucleotide_sequence[mask2]"
   ]
  },
  {
   "cell_type": "code",
   "execution_count": 24,
   "metadata": {},
   "outputs": [
    {
     "data": {
      "text/plain": [
       "(True,\n",
       " array(['S'], dtype='<U1'),\n",
       " array([2155169, 2155168, 2155167]),\n",
       " array(['a', 'g', 'c'], dtype='<U1'))"
      ]
     },
     "execution_count": 24,
     "metadata": {},
     "output_type": "execute_result"
    }
   ],
   "source": [
    "gene_name = 'katG'\n",
    "amino_acid_number = 315\n",
    "\n",
    "gene = reference.build_gene(gene_name)\n",
    "gene.codons[gene.amino_acid_number==amino_acid_number]\n",
    "mask1 = gene.amino_acid_number==amino_acid_number\n",
    "mask2 = gene.gene_position==amino_acid_number\n",
    "gene.reverse_complement, gene.amino_acid_sequence[mask1], gene.nucleotide_index[mask2], gene.nucleotide_sequence[mask2]\n"
   ]
  },
  {
   "cell_type": "markdown",
   "metadata": {},
   "source": [
    "## Sample 2, pre-XDR\n",
    "\n",
    "rifampicin and a fluoroquinolone (incl. S95T)\n",
    "\n",
    "```\n",
    "761155 c t\n",
    "7570 c t\n",
    "7585 g c\n",
    "```"
   ]
  },
  {
   "cell_type": "code",
   "execution_count": 26,
   "metadata": {},
   "outputs": [
    {
     "data": {
      "text/plain": [
       "(False,\n",
       " array(['S'], dtype='<U1'),\n",
       " array([7584, 7585, 7586]),\n",
       " array(['a', 'g', 'c'], dtype='<U1'))"
      ]
     },
     "execution_count": 26,
     "metadata": {},
     "output_type": "execute_result"
    }
   ],
   "source": [
    "gene_name = 'gyrA'\n",
    "amino_acid_number = 95\n",
    "\n",
    "gene = reference.build_gene(gene_name)\n",
    "gene.codons[gene.amino_acid_number==amino_acid_number]\n",
    "mask1 = gene.amino_acid_number==amino_acid_number\n",
    "mask2 = gene.gene_position==amino_acid_number\n",
    "gene.reverse_complement, gene.amino_acid_sequence[mask1], gene.nucleotide_index[mask2], gene.nucleotide_sequence[mask2]"
   ]
  },
  {
   "cell_type": "markdown",
   "metadata": {},
   "source": [
    "## Sample 3, XDR\n",
    "\n",
    "rifampicin, a fluoroquinolone and a Group A agent (linezolid)\n",
    "\n",
    "```\n",
    "761155 c t\n",
    "7570 c t\n",
    "7585 g c\n",
    "801268 t c\n",
    "```"
   ]
  },
  {
   "cell_type": "code",
   "execution_count": 27,
   "metadata": {},
   "outputs": [
    {
     "data": {
      "text/plain": [
       "(False,\n",
       " array(['C'], dtype='<U1'),\n",
       " array([801268, 801269, 801270]),\n",
       " array(['t', 'g', 't'], dtype='<U1'))"
      ]
     },
     "execution_count": 27,
     "metadata": {},
     "output_type": "execute_result"
    }
   ],
   "source": [
    "gene_name = 'rplC'\n",
    "amino_acid_number = 154\n",
    "\n",
    "gene = reference.build_gene(gene_name)\n",
    "gene.codons[gene.amino_acid_number==amino_acid_number]\n",
    "mask1 = gene.amino_acid_number==amino_acid_number\n",
    "mask2 = gene.gene_position==amino_acid_number\n",
    "gene.reverse_complement, gene.amino_acid_sequence[mask1], gene.nucleotide_index[mask2], gene.nucleotide_sequence[mask2]"
   ]
  },
  {
   "cell_type": "markdown",
   "metadata": {},
   "source": [
    "## Sample 4, Lineage 2"
   ]
  },
  {
   "cell_type": "code",
   "execution_count": 51,
   "metadata": {},
   "outputs": [
    {
     "data": {
      "text/html": [
       "<div>\n",
       "<style scoped>\n",
       "    .dataframe tbody tr th:only-of-type {\n",
       "        vertical-align: middle;\n",
       "    }\n",
       "\n",
       "    .dataframe tbody tr th {\n",
       "        vertical-align: top;\n",
       "    }\n",
       "\n",
       "    .dataframe thead th {\n",
       "        text-align: right;\n",
       "    }\n",
       "</style>\n",
       "<table border=\"1\" class=\"dataframe\">\n",
       "  <thead>\n",
       "    <tr style=\"text-align: right;\">\n",
       "      <th></th>\n",
       "      <th>nucleotide_index</th>\n",
       "      <th>ref_base</th>\n",
       "      <th>alt_base</th>\n",
       "    </tr>\n",
       "  </thead>\n",
       "  <tbody>\n",
       "    <tr>\n",
       "      <th>0</th>\n",
       "      <td>1011511</td>\n",
       "      <td>a</td>\n",
       "      <td>c</td>\n",
       "    </tr>\n",
       "    <tr>\n",
       "      <th>1</th>\n",
       "      <td>1022003</td>\n",
       "      <td>a</td>\n",
       "      <td>c</td>\n",
       "    </tr>\n",
       "    <tr>\n",
       "      <th>2</th>\n",
       "      <td>1028217</td>\n",
       "      <td>g</td>\n",
       "      <td>a</td>\n",
       "    </tr>\n",
       "    <tr>\n",
       "      <th>3</th>\n",
       "      <td>1034758</td>\n",
       "      <td>c</td>\n",
       "      <td>t</td>\n",
       "    </tr>\n",
       "    <tr>\n",
       "      <th>4</th>\n",
       "      <td>1071966</td>\n",
       "      <td>a</td>\n",
       "      <td>g</td>\n",
       "    </tr>\n",
       "    <tr>\n",
       "      <th>...</th>\n",
       "      <td>...</td>\n",
       "      <td>...</td>\n",
       "      <td>...</td>\n",
       "    </tr>\n",
       "    <tr>\n",
       "      <th>299</th>\n",
       "      <td>940602</td>\n",
       "      <td>c</td>\n",
       "      <td>g</td>\n",
       "    </tr>\n",
       "    <tr>\n",
       "      <th>300</th>\n",
       "      <td>94388</td>\n",
       "      <td>g</td>\n",
       "      <td>a</td>\n",
       "    </tr>\n",
       "    <tr>\n",
       "      <th>301</th>\n",
       "      <td>96894</td>\n",
       "      <td>c</td>\n",
       "      <td>t</td>\n",
       "    </tr>\n",
       "    <tr>\n",
       "      <th>302</th>\n",
       "      <td>97350</td>\n",
       "      <td>a</td>\n",
       "      <td>c</td>\n",
       "    </tr>\n",
       "    <tr>\n",
       "      <th>303</th>\n",
       "      <td>996205</td>\n",
       "      <td>t</td>\n",
       "      <td>c</td>\n",
       "    </tr>\n",
       "  </tbody>\n",
       "</table>\n",
       "<p>304 rows × 3 columns</p>\n",
       "</div>"
      ],
      "text/plain": [
       "     nucleotide_index ref_base alt_base\n",
       "0             1011511        a        c\n",
       "1             1022003        a        c\n",
       "2             1028217        g        a\n",
       "3             1034758        c        t\n",
       "4             1071966        a        g\n",
       "..                ...      ...      ...\n",
       "299            940602        c        g\n",
       "300             94388        g        a\n",
       "301             96894        c        t\n",
       "302             97350        a        c\n",
       "303            996205        t        c\n",
       "\n",
       "[304 rows x 3 columns]"
      ]
     },
     "execution_count": 51,
     "metadata": {},
     "output_type": "execute_result"
    }
   ],
   "source": [
    "lineage2 = pandas.read_csv('../SNP-IT/lib/beijing', sep='\\t', names=['nucleotide_index', 'alt'])\n",
    "def find_ref_base(row):\n",
    "    alt_base = row.alt.lower()\n",
    "    index = int(row.nucleotide_index)\n",
    "    mask = reference.nucleotide_index==index\n",
    "    ref_base = reference.nucleotide_sequence[mask][0]\n",
    "    assert ref_base != alt_base\n",
    "    return pandas.Series([ref_base, alt_base])\n",
    "\n",
    "lineage2[['ref_base', 'alt_base']] = lineage2.apply(find_ref_base, axis=1)\n",
    "lineage2.drop(columns=['alt'],inplace=True)\n",
    "lineage2.to_csv('tb-test-lineage2-vanilla.txt', header=None, index=False, sep=' ')\n",
    "lineage2"
   ]
  },
  {
   "cell_type": "code",
   "execution_count": 50,
   "metadata": {},
   "outputs": [
    {
     "data": {
      "text/html": [
       "<div>\n",
       "<style scoped>\n",
       "    .dataframe tbody tr th:only-of-type {\n",
       "        vertical-align: middle;\n",
       "    }\n",
       "\n",
       "    .dataframe tbody tr th {\n",
       "        vertical-align: top;\n",
       "    }\n",
       "\n",
       "    .dataframe thead th {\n",
       "        text-align: right;\n",
       "    }\n",
       "</style>\n",
       "<table border=\"1\" class=\"dataframe\">\n",
       "  <thead>\n",
       "    <tr style=\"text-align: right;\">\n",
       "      <th></th>\n",
       "      <th>nucleotide_index</th>\n",
       "      <th>ref_base</th>\n",
       "      <th>alt_base</th>\n",
       "    </tr>\n",
       "  </thead>\n",
       "  <tbody>\n",
       "    <tr>\n",
       "      <th>0</th>\n",
       "      <td>1009490</td>\n",
       "      <td>c</td>\n",
       "      <td>t</td>\n",
       "    </tr>\n",
       "    <tr>\n",
       "      <th>1</th>\n",
       "      <td>1027727</td>\n",
       "      <td>g</td>\n",
       "      <td>c</td>\n",
       "    </tr>\n",
       "    <tr>\n",
       "      <th>2</th>\n",
       "      <td>1029997</td>\n",
       "      <td>a</td>\n",
       "      <td>g</td>\n",
       "    </tr>\n",
       "    <tr>\n",
       "      <th>3</th>\n",
       "      <td>1032524</td>\n",
       "      <td>t</td>\n",
       "      <td>c</td>\n",
       "    </tr>\n",
       "    <tr>\n",
       "      <th>4</th>\n",
       "      <td>1043136</td>\n",
       "      <td>c</td>\n",
       "      <td>t</td>\n",
       "    </tr>\n",
       "    <tr>\n",
       "      <th>...</th>\n",
       "      <td>...</td>\n",
       "      <td>...</td>\n",
       "      <td>...</td>\n",
       "    </tr>\n",
       "    <tr>\n",
       "      <th>420</th>\n",
       "      <td>952597</td>\n",
       "      <td>c</td>\n",
       "      <td>t</td>\n",
       "    </tr>\n",
       "    <tr>\n",
       "      <th>421</th>\n",
       "      <td>976043</td>\n",
       "      <td>g</td>\n",
       "      <td>t</td>\n",
       "    </tr>\n",
       "    <tr>\n",
       "      <th>422</th>\n",
       "      <td>987601</td>\n",
       "      <td>c</td>\n",
       "      <td>t</td>\n",
       "    </tr>\n",
       "    <tr>\n",
       "      <th>423</th>\n",
       "      <td>98966</td>\n",
       "      <td>g</td>\n",
       "      <td>c</td>\n",
       "    </tr>\n",
       "    <tr>\n",
       "      <th>424</th>\n",
       "      <td>996219</td>\n",
       "      <td>g</td>\n",
       "      <td>a</td>\n",
       "    </tr>\n",
       "  </tbody>\n",
       "</table>\n",
       "<p>425 rows × 3 columns</p>\n",
       "</div>"
      ],
      "text/plain": [
       "     nucleotide_index ref_base alt_base\n",
       "0             1009490        c        t\n",
       "1             1027727        g        c\n",
       "2             1029997        a        g\n",
       "3             1032524        t        c\n",
       "4             1043136        c        t\n",
       "..                ...      ...      ...\n",
       "420            952597        c        t\n",
       "421            976043        g        t\n",
       "422            987601        c        t\n",
       "423             98966        g        c\n",
       "424            996219        g        a\n",
       "\n",
       "[425 rows x 3 columns]"
      ]
     },
     "execution_count": 50,
     "metadata": {},
     "output_type": "execute_result"
    }
   ],
   "source": [
    "lineage3 = pandas.read_csv('../SNP-IT/lib/EAI', sep='\\t', names=['nucleotide_index', 'alt'])\n",
    "lineage3[['ref_base', 'alt_base']] = lineage3.apply(find_ref_base, axis=1)\n",
    "lineage3.drop(columns=['alt'],inplace=True)\n",
    "lineage3.to_csv('tb-test-lineage3-vanilla.txt', header=None, index=False, sep=' ')\n",
    "lineage3"
   ]
  },
  {
   "cell_type": "markdown",
   "metadata": {},
   "source": []
  }
 ],
 "metadata": {
  "kernelspec": {
   "display_name": "Python 3.10.4 64-bit",
   "language": "python",
   "name": "python3"
  },
  "language_info": {
   "codemirror_mode": {
    "name": "ipython",
    "version": 3
   },
   "file_extension": ".py",
   "mimetype": "text/x-python",
   "name": "python",
   "nbconvert_exporter": "python",
   "pygments_lexer": "ipython3",
   "version": "3.10.4"
  },
  "orig_nbformat": 4,
  "vscode": {
   "interpreter": {
    "hash": "7a792fcb311f9eb9f3c1b942a8c87ada8484712b89b670347c16a1088e0a1f69"
   }
  }
 },
 "nbformat": 4,
 "nbformat_minor": 2
}
